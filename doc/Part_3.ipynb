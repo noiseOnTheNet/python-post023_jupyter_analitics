{
 "cells": [
  {
   "cell_type": "markdown",
   "id": "174e59f6-c1c2-4009-bb09-b101c3f9e389",
   "metadata": {},
   "source": [
    "# Introduction to Exploratory Data Analysis with Matplotlib and Seaborn"
   ]
  },
  {
   "cell_type": "code",
   "execution_count": null,
   "id": "a05a03ab-b7e9-4924-8069-244e2583d616",
   "metadata": {},
   "outputs": [],
   "source": [
    "!pip install --upgrade matplotlib seaborn"
   ]
  },
  {
   "cell_type": "code",
   "execution_count": null,
   "id": "82e19091-35f4-4da9-939c-23f88f1b59ad",
   "metadata": {},
   "outputs": [],
   "source": [
    "import pandas as pd\n",
    "import matplotlib.pyplot as plt\n",
    "import seaborn as sns"
   ]
  },
  {
   "cell_type": "markdown",
   "id": "999bce95-792e-4d9f-86c6-7f7b84976d1a",
   "metadata": {},
   "source": [
    "## Monovariate Categorical"
   ]
  },
  {
   "cell_type": "code",
   "execution_count": null,
   "id": "3c050f9e-080b-465e-8a46-271874c823bf",
   "metadata": {},
   "outputs": [],
   "source": [
    "titanic = pd.read_csv(\"datasets/titanic.csv\")\n",
    "titanic.head()"
   ]
  },
  {
   "cell_type": "code",
   "execution_count": null,
   "id": "f866ab88-1f52-4dc8-86ba-f83b3d348206",
   "metadata": {},
   "outputs": [],
   "source": [
    "pclass = titanic.Pclass\n",
    "pclass.dtype"
   ]
  },
  {
   "cell_type": "code",
   "execution_count": null,
   "id": "0bf55e51-a4db-439c-9ae2-4fd1f161cb82",
   "metadata": {},
   "outputs": [],
   "source": [
    "pclass.unique()"
   ]
  },
  {
   "cell_type": "code",
   "execution_count": null,
   "id": "92550e9b-991b-43fe-a757-1e7365166654",
   "metadata": {},
   "outputs": [],
   "source": [
    "pclass = pclass.astype('category')\n",
    "pclass.dtype"
   ]
  },
  {
   "cell_type": "code",
   "execution_count": null,
   "id": "4ca6f172-a477-480d-8e65-870bbb24e6de",
   "metadata": {},
   "outputs": [],
   "source": [
    "pclass.cat.categories"
   ]
  },
  {
   "cell_type": "code",
   "execution_count": null,
   "id": "430debec-0097-4f4e-95b7-98a9351f3f00",
   "metadata": {},
   "outputs": [],
   "source": [
    "sns.countplot(pclass)"
   ]
  },
  {
   "cell_type": "markdown",
   "id": "6f784e9f-8d3d-4389-9082-76c438b330a9",
   "metadata": {},
   "source": [
    "## Monovariate Continuous"
   ]
  },
  {
   "cell_type": "code",
   "execution_count": null,
   "id": "74c350bb-f7bc-4fec-9ca3-5982982c7d0e",
   "metadata": {},
   "outputs": [],
   "source": [
    "california = pd.read_csv(\"california_pb_2023.csv\")\n",
    "california.describe(include=\"all\")"
   ]
  },
  {
   "cell_type": "code",
   "execution_count": null,
   "id": "ec3a968e-323e-4b44-8784-d5ccad7b1578",
   "metadata": {},
   "outputs": [],
   "source": [
    "sns.histplot(california,x=\"Daily Mean Pb Concentration\")"
   ]
  },
  {
   "cell_type": "code",
   "execution_count": null,
   "id": "a31db8d7-a93e-4f9a-9ae5-c9441943d0a9",
   "metadata": {},
   "outputs": [],
   "source": [
    "from scipy import stats\n",
    "stats.probplot(california[\"Daily Mean Pb Concentration\"], plot=sns.mpl.pyplot)"
   ]
  },
  {
   "cell_type": "code",
   "execution_count": null,
   "id": "9fd06d52-4ea2-40f6-b3e9-d487483370aa",
   "metadata": {},
   "outputs": [],
   "source": [
    "stats.probplot(california[\"Daily Mean Pb Concentration\"], plot=sns.mpl.pyplot,dist=stats.distributions.lognorm(s=1))"
   ]
  },
  {
   "cell_type": "markdown",
   "id": "362f1dca-31e2-47af-af13-475f5ba71113",
   "metadata": {},
   "source": [
    "## Multivariate Categorical"
   ]
  },
  {
   "cell_type": "code",
   "execution_count": null,
   "id": "5b0cde13-2355-4934-acb8-f1c6ae01d1e3",
   "metadata": {},
   "outputs": [],
   "source": [
    "titanic['survived'] = titanic.Survived.astype('category')\n",
    "titanic['sex'] = titanic.Sex.astype('category')\n",
    "titanic['pclass'] = titanic.Pclass.astype('category')"
   ]
  },
  {
   "cell_type": "code",
   "execution_count": null,
   "id": "4d515d17-af41-4a3d-a07e-5ce4d42c7f1a",
   "metadata": {},
   "outputs": [],
   "source": [
    "# pd.crosstab(titanic['Survived','Sex','Pclass'])\n",
    "ct = pd.crosstab(titanic['survived'],columns=[titanic['sex'],titanic['pclass']])\n",
    "ct"
   ]
  },
  {
   "cell_type": "code",
   "execution_count": null,
   "id": "888a696c-66e1-4cd3-a830-3c003950b089",
   "metadata": {},
   "outputs": [],
   "source": [
    "ct.plot.bar(stacked=True)"
   ]
  },
  {
   "cell_type": "markdown",
   "id": "de8f5789-43b6-44f5-8dc3-8ff4213d2dd0",
   "metadata": {},
   "source": [
    "## Multivariate Continuous"
   ]
  },
  {
   "cell_type": "code",
   "execution_count": null,
   "id": "6edd3146-7ab3-40a7-9df0-0ab4f08d911b",
   "metadata": {},
   "outputs": [],
   "source": [
    "iris = pd.read_csv(\"iris.csv\")\n",
    "iris.head()"
   ]
  },
  {
   "cell_type": "code",
   "execution_count": null,
   "id": "ad2117e8-f425-4b2f-a555-430917ba136e",
   "metadata": {},
   "outputs": [],
   "source": [
    "sns.pairplot(iris)"
   ]
  },
  {
   "cell_type": "markdown",
   "id": "9dd914be-1f4d-4b69-b821-2a39be97254f",
   "metadata": {},
   "source": [
    "## Multivariate Mixed"
   ]
  },
  {
   "cell_type": "markdown",
   "id": "b23830a8-cd57-431d-9543-475b5f144a79",
   "metadata": {},
   "source": [
    "### One continuous variable against a one categorical variable"
   ]
  },
  {
   "cell_type": "code",
   "execution_count": null,
   "id": "06ded33d-1faa-4ea6-8cf0-c18b942c13ba",
   "metadata": {},
   "outputs": [],
   "source": [
    "sns.boxplot(titanic,x=\"pclass\",y=\"Age\")"
   ]
  },
  {
   "cell_type": "code",
   "execution_count": null,
   "id": "bda4e3ec-02f9-433e-a917-a54cef4b5d4f",
   "metadata": {},
   "outputs": [],
   "source": [
    "sns.violinplot(titanic,x=\"pclass\",y=\"Age\")"
   ]
  },
  {
   "cell_type": "markdown",
   "id": "432cb3b0-1493-459e-a28a-2bbe6d08b414",
   "metadata": {},
   "source": [
    "### Many continuous variables against one categorical variable"
   ]
  },
  {
   "cell_type": "code",
   "execution_count": null,
   "id": "cd03e34e-5686-49d3-86e9-afe60f73220a",
   "metadata": {},
   "outputs": [],
   "source": [
    "sns.pairplot(iris,hue=\"variety\")"
   ]
  },
  {
   "cell_type": "markdown",
   "id": "be6af749-a6ba-4276-8041-59114efc69fa",
   "metadata": {},
   "source": [
    "### Many categorical variables against one or more continuous variables"
   ]
  },
  {
   "cell_type": "code",
   "execution_count": null,
   "id": "bf221fa0-2297-458e-8393-6c4d637ac35b",
   "metadata": {},
   "outputs": [],
   "source": [
    "g = sns.FacetGrid(titanic, col=\"sex\", row='pclass')\n",
    "g.map(sns.histplot, \"Age\")"
   ]
  },
  {
   "cell_type": "code",
   "execution_count": null,
   "id": "63f414ca-b28d-4817-94ce-088dfb235caf",
   "metadata": {},
   "outputs": [],
   "source": [
    "sns.histplot(titanic,x=\"Age\")"
   ]
  }
 ],
 "metadata": {
  "kernelspec": {
   "display_name": "Python 3 (ipykernel)",
   "language": "python",
   "name": "python3"
  },
  "language_info": {
   "codemirror_mode": {
    "name": "ipython",
    "version": 3
   },
   "file_extension": ".py",
   "mimetype": "text/x-python",
   "name": "python",
   "nbconvert_exporter": "python",
   "pygments_lexer": "ipython3",
   "version": "3.12.7"
  }
 },
 "nbformat": 4,
 "nbformat_minor": 5
}
