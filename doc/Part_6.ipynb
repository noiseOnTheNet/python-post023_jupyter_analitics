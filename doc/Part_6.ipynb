{
 "cells": [
  {
   "cell_type": "markdown",
   "id": "cb9a9ed8-4442-4d67-ba38-d634abb2e7be",
   "metadata": {},
   "source": [
    "# Statistical Tests Intro"
   ]
  },
  {
   "cell_type": "markdown",
   "id": "abf37359-764d-47ef-b948-2c90fe8afbcc",
   "metadata": {},
   "source": [
    "## Bivariate Student's T test\n",
    "We may want to verify if two sample datasets may be coming from the same distribution or different ones, i.e. they are not very different or they are different enough.\n",
    "\n",
    "This test's hypothesis are the following:\n",
    "- H0 (base hypothesis) both datasets are coming from a sampling of the same distribution\n",
    "- H1 (alternative hypothesis) the datasets may have been sampled out of different distributions"
   ]
  },
  {
   "cell_type": "code",
   "execution_count": 1,
   "id": "bb662392-5510-44a2-972d-4cf1f682c6d9",
   "metadata": {},
   "outputs": [],
   "source": [
    "import pandas as pd"
   ]
  },
  {
   "cell_type": "markdown",
   "id": "b41b448e-80db-479f-bc76-b50c57c4f80d",
   "metadata": {},
   "source": [
    "read daily temperatures measured in Rome from 1951 to 2009\n",
    "\n",
    "This is the content:\n",
    "|column| meaning|\n",
    "|------|--------|\n",
    "|SOUID| categorical: measurement source id\n",
    "|DATE| calendar day in YYYYMMDD format\n",
    "|TG| average temperature\n",
    "|Q_TG| categorical: quality tag 9=invalid"
   ]
  },
  {
   "cell_type": "code",
   "execution_count": 2,
   "id": "b412ad9e-735a-4732-884d-e94dd8ae6b82",
   "metadata": {},
   "outputs": [],
   "source": [
    "roma = pd.read_csv(\"TG_SOUID100860.txt\",skiprows=20)"
   ]
  },
  {
   "cell_type": "markdown",
   "id": "50b4f48d-f7f4-4180-9f24-46f0cf67f55a",
   "metadata": {},
   "source": [
    "This dataset column names include spaces, we need to remove them"
   ]
  },
  {
   "cell_type": "code",
   "execution_count": 3,
   "id": "70e5b86c-8060-4519-a4a7-7982653f8424",
   "metadata": {},
   "outputs": [],
   "source": [
    "roma.columns = list(map(str.strip,roma.columns))"
   ]
  },
  {
   "cell_type": "code",
   "execution_count": 4,
   "id": "03af57c1-9af0-4832-ab2d-b0ae759c3ddb",
   "metadata": {},
   "outputs": [
    {
     "data": {
      "text/plain": [
       "Index(['SOUID', 'DATE', 'TG', 'Q_TG'], dtype='object')"
      ]
     },
     "execution_count": 4,
     "metadata": {},
     "output_type": "execute_result"
    }
   ],
   "source": [
    "roma.columns"
   ]
  },
  {
   "cell_type": "code",
   "execution_count": 5,
   "id": "4b0c4a34-5d73-43c8-801c-e4c138448364",
   "metadata": {},
   "outputs": [],
   "source": [
    "roma.DATE = pd.to_datetime(roma.DATE,format=\"%Y%m%d\")"
   ]
  },
  {
   "cell_type": "code",
   "execution_count": 6,
   "id": "2ac300f0-cc0a-421a-9f07-5ea91d1c69c4",
   "metadata": {},
   "outputs": [],
   "source": [
    "roma[\"MONTH\"] = roma.DATE.dt.month"
   ]
  },
  {
   "cell_type": "code",
   "execution_count": 7,
   "id": "e7f397f0-69ec-433f-b483-199f75797917",
   "metadata": {},
   "outputs": [],
   "source": [
    "roma[\"YEAR\"] = roma.DATE.dt.year"
   ]
  },
  {
   "cell_type": "code",
   "execution_count": 8,
   "id": "b6156a73-98f5-4851-a1af-a1c63c8a3e2d",
   "metadata": {},
   "outputs": [],
   "source": [
    "roma_cleaned = roma.loc[roma.Q_TG != 9,:]"
   ]
  },
  {
   "cell_type": "code",
   "execution_count": 9,
   "id": "780fb094-b0b9-412e-9de8-a0b10d2141e5",
   "metadata": {},
   "outputs": [],
   "source": [
    "roma_giugno_1951 = roma_cleaned.loc[\n",
    "    (roma_cleaned.YEAR == 1951) & (roma_cleaned.MONTH == 6),\n",
    "    \"TG\"\n",
    "]"
   ]
  },
  {
   "cell_type": "code",
   "execution_count": 10,
   "id": "fdc1e28f-8f24-42aa-a2c2-86a78e876f7a",
   "metadata": {},
   "outputs": [],
   "source": [
    "roma_giugno_2009 = roma_cleaned.loc[\n",
    "    (roma_cleaned.YEAR == 2009) & (roma_cleaned.MONTH == 6),\n",
    "    \"TG\"\n",
    "]"
   ]
  },
  {
   "cell_type": "code",
   "execution_count": 11,
   "id": "0ccf40a1-4bf9-4662-bfc5-0b8f343a13ee",
   "metadata": {},
   "outputs": [],
   "source": [
    "import scipy.stats"
   ]
  },
  {
   "cell_type": "code",
   "execution_count": 12,
   "id": "53dc4595-5f22-4c74-860a-3cc362d5c387",
   "metadata": {},
   "outputs": [],
   "source": [
    "from scipy.stats import ttest_ind"
   ]
  },
  {
   "cell_type": "code",
   "execution_count": 13,
   "id": "efb9f9fd-5e1b-489d-b939-7b389282200d",
   "metadata": {},
   "outputs": [
    {
     "data": {
      "text/plain": [
       "TtestResult(statistic=np.float64(-2.167425930725216), pvalue=np.float64(0.03432071944797424), df=np.float64(58.0))"
      ]
     },
     "execution_count": 13,
     "metadata": {},
     "output_type": "execute_result"
    }
   ],
   "source": [
    "ttest_ind(roma_giugno_1951,roma_giugno_2009)"
   ]
  },
  {
   "cell_type": "markdown",
   "id": "5a9ffcf3-d9a9-4f29-a363-fccda6ba3500",
   "metadata": {},
   "source": [
    "## ANOVA\n",
    "[Analysis of Variance](https://en.wikipedia.org/wiki/Analysis_of_variance) is a family of methodologies that extend Student's T; their goal is to prove whether a factor makes a difference when it splits a set of measurements.\n",
    "\n",
    "It can be used to show if a disease treatment is effective or not. The factor or categorical independend variable is the \"input\", while the health parameter is a continuous dependent variable or \"output\".\n",
    "\n",
    "We are going to show the simplest use of it called `Fixed Mixture`\n",
    "\n",
    "### (Optional) How it works\n",
    "The main idea is to see how a grouping is or not relevant to explain the global variance\n",
    "\n",
    "In order to understand this test we can derive a formula representing the contribution to the global variance given by each the variance within each subgroup and the variance between all subgroups\n",
    "\n",
    "Let's start with the usual variance definition\n",
    "\n",
    "\\begin{equation}\n",
    "var[X] := \\frac{\\sum_{x \\in X}{(x - \\bar{x})^2}}{n - 1}\n",
    "\\end{equation}\n",
    "\n",
    "where $\\bar{x} = E[X] = \\frac{\\sum_{x \\in X}x}{card[X]}$\n",
    "\n",
    "given a partition $X_i$ i.e. $\\bigcup_{i \\in G}{X_i} =  X$ and $n = card[X]$ ; $n_i = card[X_i]$ ; \n",
    "\n",
    "so $\\bar{x_i} = E[X_i] = \\frac{\\sum_{x \\in X_i}x}{n_i}$\n",
    "\n",
    "breaking the sum into each subgroup and adding and removing $x_i$ inside the square we have\n",
    "\n",
    "\\begin{equation}\n",
    "var[X] := \\frac{\\sum_{i \\in G}{\\sum_{x \\in X_i}(x - \\bar{x} + \\bar{x_i} - \\bar{x_i})^2}}{n - 1}\n",
    "\\end{equation}\n",
    "\n",
    "developing the square\n",
    "\n",
    "\\begin{equation}\n",
    "var[X] := \\frac{\\sum_{i \\in G}{\\sum_{x \\in X_i}(x - \\bar{x_i})^2 + (\\bar{x_i} - \\bar{x})^2 -2(x - \\bar{x_i})(\\bar{x_i} - \\bar{x})}}{n - 1}\n",
    "\\end{equation}\n",
    "\n",
    "we can bring the constant part outside of the sum\n",
    "\n",
    "\\begin{equation}\n",
    "var[X] := \\frac{\\sum_{i \\in G}{( n_i (\\bar{x_i} - \\bar{x})^2 + \\sum_{x \\in X_i}(x - \\bar{x_i})^2 -2(\\bar{x_i} - \\bar{x})\\sum_{x \\in X_i}{(x - \\bar{x_i})}})}{n - 1}\n",
    "\\end{equation}\n",
    "\n",
    "by definition of $\\bar{x_i}$ we have\n",
    "\n",
    "\\begin{equation}\n",
    "\\forall_{i \\in G}\\sum_{x \\in X_i}{(x - \\bar{x_i})} = 0\n",
    "\\end{equation}\n",
    "\n",
    "so the last addend can be simplified; let's break the fraction\n",
    "\n",
    "\\begin{equation}\n",
    "var[X] := \\frac{\\sum_{i \\in G}{ n_i (\\bar{x_i} - \\bar{x})^2 }}{n - 1} + \\frac{\\sum_{i \\in G}{\\sum_{x \\in X_i}(x - \\bar{x_i})^2}}{n - 1}\n",
    "\\end{equation}\n",
    "\n",
    "now we multiply and divide the second part by $n_i - 1$ in order to show how it may be seen as a variance\n",
    "\n",
    "\\begin{equation}\n",
    "var[X] := \\frac{\\sum_{i \\in G}{ n_i (\\bar{x_i} - \\bar{x})^2 }}{n - 1} + \\sum_{i \\in G}{\\frac{(n_i - 1)}{n -1}\\frac{\\sum_{x \\in X_i}(x - \\bar{x_i})^2}{n_i - 1}}\n",
    "\\end{equation}\n",
    "\n",
    "now we can show the variance of each subgroup\n",
    "\n",
    "\\begin{equation}\n",
    "var[X] := \\frac{\\sum_{i \\in G}{ n_i (\\bar{x_i} - \\bar{x})^2 }}{n - 1} + \\sum_{i \\in G}{\\frac{(n_i - 1)}{n -1}var[X_i]}\n",
    "\\end{equation}\n",
    "\n",
    "both addends are weighted; this is equivalent to\n",
    "\n",
    "\\begin{equation}\n",
    "var[X] := var[E[X_i]] + E[var[X_i]]\n",
    "\\end{equation}\n"
   ]
  },
  {
   "cell_type": "markdown",
   "id": "e3827cf3-79d3-4e23-9352-092541a8911e",
   "metadata": {},
   "source": [
    "https://github.com/KenDaupsey/One-Way-Repeated-measures-ANOVA/blob/main/One_Way_Repeated_measures_ANOVA.ipynb"
   ]
  },
  {
   "cell_type": "code",
   "execution_count": 9,
   "id": "a237e5d0-9e77-431d-b09f-168ca84fa18f",
   "metadata": {},
   "outputs": [],
   "source": [
    "unemployment = pd.read_csv(\"unemployment_it.csv\")"
   ]
  },
  {
   "cell_type": "code",
   "execution_count": 10,
   "id": "74621f92-261f-4d81-8f17-ebf337289509",
   "metadata": {},
   "outputs": [],
   "source": [
    "import statsmodels.api as sm"
   ]
  },
  {
   "cell_type": "code",
   "execution_count": 11,
   "id": "e0a6b437-022d-47ce-822b-e6fbb428649e",
   "metadata": {},
   "outputs": [],
   "source": [
    "from statsmodels.formula.api import ols"
   ]
  },
  {
   "cell_type": "code",
   "execution_count": 7,
   "id": "927bbf6a-2477-4a06-984e-9fc0451eb545",
   "metadata": {},
   "outputs": [
    {
     "ename": "AttributeError",
     "evalue": "module 'pysdmx' has no attribute 'fmr'",
     "output_type": "error",
     "traceback": [
      "\u001b[0;31m---------------------------------------------------------------------------\u001b[0m",
      "\u001b[0;31mAttributeError\u001b[0m                            Traceback (most recent call last)",
      "Cell \u001b[0;32mIn[7], line 1\u001b[0m\n\u001b[0;32m----> 1\u001b[0m \u001b[43mpysdmx\u001b[49m\u001b[38;5;241;43m.\u001b[39;49m\u001b[43mfmr\u001b[49m\n",
      "\u001b[0;31mAttributeError\u001b[0m: module 'pysdmx' has no attribute 'fmr'"
     ]
    }
   ],
   "source": [
    "ols('frequency ~ ()', data=data).fit()"
   ]
  },
  {
   "cell_type": "code",
   "execution_count": null,
   "id": "6b06c089-bde2-4370-b40f-ec0f3ae29df2",
   "metadata": {},
   "outputs": [],
   "source": []
  }
 ],
 "metadata": {
  "kernelspec": {
   "display_name": "Python 3 (ipykernel)",
   "language": "python",
   "name": "python3"
  },
  "language_info": {
   "codemirror_mode": {
    "name": "ipython",
    "version": 3
   },
   "file_extension": ".py",
   "mimetype": "text/x-python",
   "name": "python",
   "nbconvert_exporter": "python",
   "pygments_lexer": "ipython3",
   "version": "3.12.7"
  }
 },
 "nbformat": 4,
 "nbformat_minor": 5
}
