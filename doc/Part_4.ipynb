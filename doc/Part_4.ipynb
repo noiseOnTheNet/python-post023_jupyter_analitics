{
 "cells": [
  {
   "cell_type": "markdown",
   "id": "f07e3fcf-15bf-45c9-9e28-b09164509bf2",
   "metadata": {},
   "source": [
    "# Create a Script from a Jupyter Notebook"
   ]
  },
  {
   "cell_type": "code",
   "execution_count": null,
   "id": "8f455499-7d0d-4a0b-a72d-a84b7f46f90f",
   "metadata": {},
   "outputs": [],
   "source": []
  }
 ],
 "metadata": {
  "kernelspec": {
   "display_name": "Python 3 (ipykernel)",
   "language": "python",
   "name": "python3"
  },
  "language_info": {
   "codemirror_mode": {
    "name": "ipython",
    "version": 3
   },
   "file_extension": ".py",
   "mimetype": "text/x-python",
   "name": "python",
   "nbconvert_exporter": "python",
   "pygments_lexer": "ipython3",
   "version": "3.13.1"
  }
 },
 "nbformat": 4,
 "nbformat_minor": 5
}
