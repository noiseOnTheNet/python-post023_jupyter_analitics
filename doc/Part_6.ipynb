{
 "cells": [
  {
   "cell_type": "markdown",
   "id": "cb9a9ed8-4442-4d67-ba38-d634abb2e7be",
   "metadata": {},
   "source": [
    "# Statistical Tests"
   ]
  },
  {
   "cell_type": "markdown",
   "id": "abf37359-764d-47ef-b948-2c90fe8afbcc",
   "metadata": {},
   "source": [
    "## Bivariate Student's T test\n",
    "We may want to verify if two sample datasets may be coming from the same distribution or different ones, i.e. they are not very different or they are different enough.\n",
    "\n",
    "This test's hypothesis are the following:\n",
    "- H0 (base hypothesis) both datasets are coming from a sampling of the same distribution\n",
    "- H1 (alternative hypothesis) the datasets may have been sampled out of different distributions"
   ]
  },
  {
   "cell_type": "code",
   "execution_count": 1,
   "id": "bb662392-5510-44a2-972d-4cf1f682c6d9",
   "metadata": {},
   "outputs": [],
   "source": [
    "import pandas as pd"
   ]
  },
  {
   "cell_type": "markdown",
   "id": "b41b448e-80db-479f-bc76-b50c57c4f80d",
   "metadata": {},
   "source": [
    "read daily temperatures measured in Rome from 1951 to 2009\n",
    "\n",
    "This is the content:\n",
    "|column| meaning|\n",
    "|------|--------|\n",
    "|SOUID| categorical: measurement source id\n",
    "|DATE| calendar day in YYYYMMDD format\n",
    "|TG| average temperature\n",
    "|Q_TG| categorical: quality tag 9=invalid"
   ]
  },
  {
   "cell_type": "code",
   "execution_count": 2,
   "id": "b412ad9e-735a-4732-884d-e94dd8ae6b82",
   "metadata": {},
   "outputs": [],
   "source": [
    "roma = pd.read_csv(\"TG_SOUID100860.txt\",skiprows=20)"
   ]
  },
  {
   "cell_type": "markdown",
   "id": "50b4f48d-f7f4-4180-9f24-46f0cf67f55a",
   "metadata": {},
   "source": [
    "This dataset column names include spaces, we need to remove them"
   ]
  },
  {
   "cell_type": "code",
   "execution_count": 3,
   "id": "70e5b86c-8060-4519-a4a7-7982653f8424",
   "metadata": {},
   "outputs": [],
   "source": [
    "roma.columns = list(map(str.strip,roma.columns))"
   ]
  },
  {
   "cell_type": "code",
   "execution_count": 4,
   "id": "03af57c1-9af0-4832-ab2d-b0ae759c3ddb",
   "metadata": {},
   "outputs": [
    {
     "data": {
      "text/plain": [
       "Index(['SOUID', 'DATE', 'TG', 'Q_TG'], dtype='object')"
      ]
     },
     "execution_count": 4,
     "metadata": {},
     "output_type": "execute_result"
    }
   ],
   "source": [
    "roma.columns"
   ]
  },
  {
   "cell_type": "code",
   "execution_count": 5,
   "id": "4b0c4a34-5d73-43c8-801c-e4c138448364",
   "metadata": {},
   "outputs": [],
   "source": [
    "roma.DATE = pd.to_datetime(roma.DATE,format=\"%Y%m%d\")"
   ]
  },
  {
   "cell_type": "code",
   "execution_count": 6,
   "id": "2ac300f0-cc0a-421a-9f07-5ea91d1c69c4",
   "metadata": {},
   "outputs": [],
   "source": [
    "roma[\"MONTH\"] = roma.DATE.dt.month"
   ]
  },
  {
   "cell_type": "code",
   "execution_count": 7,
   "id": "e7f397f0-69ec-433f-b483-199f75797917",
   "metadata": {},
   "outputs": [],
   "source": [
    "roma[\"YEAR\"] = roma.DATE.dt.year"
   ]
  },
  {
   "cell_type": "code",
   "execution_count": 8,
   "id": "b6156a73-98f5-4851-a1af-a1c63c8a3e2d",
   "metadata": {},
   "outputs": [],
   "source": [
    "roma_cleaned = roma.loc[roma.Q_TG != 9,:]"
   ]
  },
  {
   "cell_type": "code",
   "execution_count": 9,
   "id": "780fb094-b0b9-412e-9de8-a0b10d2141e5",
   "metadata": {},
   "outputs": [],
   "source": [
    "roma_giugno_1951 = roma_cleaned.loc[\n",
    "    (roma_cleaned.YEAR == 1951) & (roma_cleaned.MONTH == 6),\n",
    "    \"TG\"\n",
    "]"
   ]
  },
  {
   "cell_type": "code",
   "execution_count": 10,
   "id": "fdc1e28f-8f24-42aa-a2c2-86a78e876f7a",
   "metadata": {},
   "outputs": [],
   "source": [
    "roma_giugno_2009 = roma_cleaned.loc[\n",
    "    (roma_cleaned.YEAR == 2009) & (roma_cleaned.MONTH == 6),\n",
    "    \"TG\"\n",
    "]"
   ]
  },
  {
   "cell_type": "code",
   "execution_count": 11,
   "id": "0ccf40a1-4bf9-4662-bfc5-0b8f343a13ee",
   "metadata": {},
   "outputs": [],
   "source": [
    "import scipy.stats"
   ]
  },
  {
   "cell_type": "code",
   "execution_count": 12,
   "id": "53dc4595-5f22-4c74-860a-3cc362d5c387",
   "metadata": {},
   "outputs": [],
   "source": [
    "from scipy.stats import ttest_ind"
   ]
  },
  {
   "cell_type": "code",
   "execution_count": 13,
   "id": "efb9f9fd-5e1b-489d-b939-7b389282200d",
   "metadata": {},
   "outputs": [
    {
     "data": {
      "text/plain": [
       "TtestResult(statistic=np.float64(-2.167425930725216), pvalue=np.float64(0.03432071944797424), df=np.float64(58.0))"
      ]
     },
     "execution_count": 13,
     "metadata": {},
     "output_type": "execute_result"
    }
   ],
   "source": [
    "ttest_ind(roma_giugno_1951,roma_giugno_2009)"
   ]
  }
 ],
 "metadata": {
  "kernelspec": {
   "display_name": "Python 3 (ipykernel)",
   "language": "python",
   "name": "python3"
  },
  "language_info": {
   "codemirror_mode": {
    "name": "ipython",
    "version": 3
   },
   "file_extension": ".py",
   "mimetype": "text/x-python",
   "name": "python",
   "nbconvert_exporter": "python",
   "pygments_lexer": "ipython3",
   "version": "3.12.7"
  }
 },
 "nbformat": 4,
 "nbformat_minor": 5
}
