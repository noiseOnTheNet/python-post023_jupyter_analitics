{
 "cells": [
  {
   "cell_type": "markdown",
   "id": "95761686-2e93-445b-b1ec-4ef918d92cf3",
   "metadata": {},
   "source": [
    "# Using Pandas (basic introduction)\n",
    "Pandas is a library to work with data using relational tables\n",
    "\n",
    "To prepare for this lesson execute the following cell"
   ]
  },
  {
   "cell_type": "code",
   "execution_count": null,
   "id": "72eeedee-2247-4571-a65e-c47a3e9c9182",
   "metadata": {},
   "outputs": [],
   "source": [
    "!git clone https://github.com/datasciencedojo/datasets.git"
   ]
  },
  {
   "cell_type": "markdown",
   "id": "85261107-0646-44ab-b92b-6990e629b772",
   "metadata": {},
   "source": [
    "import the pandas library and assign it a shorter alias"
   ]
  },
  {
   "cell_type": "code",
   "execution_count": null,
   "id": "56ed1d2a-bd74-4ee1-affd-ca3f79f653ca",
   "metadata": {},
   "outputs": [],
   "source": [
    "import pandas as pd"
   ]
  },
  {
   "cell_type": "markdown",
   "id": "47fb6f03-0fc7-4bd0-9a8c-b8f780996441",
   "metadata": {},
   "source": [
    "## Loading data\n",
    "Pandas includes a rich set of input functions that allow you to get data from various file types\n",
    "\n",
    "| function | format | notes |\n",
    "|----------|--------|-------|\n",
    "| `pd.read_csv` | textual csv | |\n",
    "| `pd.read_excel` | binary excel format | requires external library |\n",
    "| `pd.read_parquet` | fast binary columnar format| requires pyarrow |\n",
    "\n",
    "A data frame contains many functions to explore it e.g. the `.head()` method shows the first lines of a data frame"
   ]
  },
  {
   "cell_type": "code",
   "execution_count": null,
   "id": "2e6a3a88-e16d-4335-b6f2-ba193775997e",
   "metadata": {},
   "outputs": [],
   "source": [
    "df = pd.read_csv(\"datasets/titanic.csv\")\n",
    "df.head()"
   ]
  },
  {
   "cell_type": "markdown",
   "id": "a3bffa71-c282-4c23-b6bc-df3c908a5d5c",
   "metadata": {},
   "source": [
    "## Projection, Selection and Extension\n",
    "a data frame is a table; you can get its column names using the `.columns` attributes"
   ]
  },
  {
   "cell_type": "code",
   "execution_count": null,
   "id": "3926a887-792c-417d-a898-3d50dca3f991",
   "metadata": {},
   "outputs": [],
   "source": [
    "df.columns"
   ]
  },
  {
   "cell_type": "markdown",
   "id": "fcc8cbb9-9bc6-49de-9860-63fe5daf2903",
   "metadata": {},
   "source": [
    "columns can be accessed individually or in groups; this operation is called **projection**\n",
    "\n",
    "Single columns can be accessed either \n",
    "1. using a square bracket operator `df.[\"age\"]`\n",
    "2. using the dot operator if the column name is a good **identifier** `df.age`\n",
    "\n",
    "Each column is called a **Series** in pandas jargon\n",
    "\n",
    "Groups of columns can be accessed by passing a list of strings to the bracket operator "
   ]
  },
  {
   "cell_type": "code",
   "execution_count": null,
   "id": "811fa793-bdde-41e7-aca6-ffd5feeea5ca",
   "metadata": {},
   "outputs": [],
   "source": [
    "df[[\"Survived\",\"Pclass\",\"Sex\",\"Age\"]]"
   ]
  },
  {
   "cell_type": "markdown",
   "id": "7042bbbb-0d38-4d7f-9ae7-621a906dbf31",
   "metadata": {},
   "source": [
    "operations on series are vectorized i.e. each individual element is used to get a new vector\n",
    "\n",
    "Operations within a series and a scalar value are repeated for all values of a series\n",
    "\n",
    "```python\n",
    "df.Pclass == 1\n",
    "```\n",
    "\n",
    "returns a series of booleans\n",
    "\n",
    "By passing a list of booleans to the square bracket operators this filters all of the lines which are satisfying the logic statement expressed; this operation is called **selection** which is a synonim for filter"
   ]
  },
  {
   "cell_type": "code",
   "execution_count": null,
   "id": "cdff0358-5bd4-41cd-bea4-145e81bf4a73",
   "metadata": {},
   "outputs": [],
   "source": [
    "df[df.Pclass == 1]"
   ]
  },
  {
   "cell_type": "markdown",
   "id": "85e936c9-3622-4b37-bb01-f51214504565",
   "metadata": {},
   "source": [
    "Usually selection and projection are used at the same time; the `.loc[,]` operator can be conveniently used for this purpose; its arguments are:\n",
    "1. a boolean list for rows or the splice operator `:` for no filter\n",
    "2. a string list of column names or the splice operator `:` for all columns"
   ]
  },
  {
   "cell_type": "code",
   "execution_count": null,
   "id": "b7670c7e-7d82-4d18-b98b-4b4e88c289c0",
   "metadata": {},
   "outputs": [],
   "source": [
    "df.loc[df.Pclass==1,[\"Survived\",\"Sex\",\"Age\"]]"
   ]
  },
  {
   "cell_type": "markdown",
   "id": "79320f5b-c7ef-4671-bb2e-596a936bc83a",
   "metadata": {},
   "source": [
    "It is possible to extend a table with more columns possibly as a result from a computation in other columns\n",
    "\n",
    "To create a new column, just assign an expression to a new column name e.g.\n",
    "\n",
    "```python\n",
    "df[\"above_average\"] = (df.score > df.score.mean())\n",
    "```"
   ]
  },
  {
   "cell_type": "code",
   "execution_count": null,
   "id": "45c047f8-36e2-45bd-9a4c-97b56dc5c3fb",
   "metadata": {},
   "outputs": [],
   "source": [
    "countries = pd.read_csv(\"datasets/WorldDBTables/CountryTable.csv\")\n",
    "countries.columns"
   ]
  },
  {
   "cell_type": "markdown",
   "id": "3cebceb3-c35e-4f67-b447-31eb46ed761d",
   "metadata": {},
   "source": [
    "### Exercise\n",
    "calculate the population density of each country\n",
    "\n",
    "The countries table contains the population size in the `population` column and the land extension in the `surface area`\n",
    "1. calculate the ratio of these two columns and store it in a new column called `population density`"
   ]
  },
  {
   "cell_type": "code",
   "execution_count": null,
   "id": "96728a59-e5b5-4663-b27a-252bd624739d",
   "metadata": {},
   "outputs": [],
   "source": [
    "countries[\"population_density\"] = countries.population /  countries.surface_area\n",
    "countries.loc[:,[\"name\",\"population_density\"]]"
   ]
  },
  {
   "cell_type": "markdown",
   "id": "e8a007fb-86dc-4dd9-8afe-b9ec3f5d0997",
   "metadata": {},
   "source": [
    "2. sort the table in descending order using the `.sort_values` function\n",
    "3. restrict the columns to only the `[\"name\",\"population_density\"]` columns\n",
    "4. show the first lines of the table using the `.head()` method: what are the most densely populated countries?"
   ]
  },
  {
   "cell_type": "code",
   "execution_count": null,
   "id": "8b9091af-f96e-4619-92a9-269824621d8c",
   "metadata": {},
   "outputs": [],
   "source": [
    "countries.sort_values(\"population_density\",ascending=False).loc[:,[\"name\",\"population_density\"]].head()"
   ]
  },
  {
   "cell_type": "markdown",
   "id": "0f33427e-25be-4a1a-add9-531d0d4777e5",
   "metadata": {},
   "source": [
    "## Join and concatenation"
   ]
  },
  {
   "cell_type": "markdown",
   "id": "dd5ddff5-f959-40d2-8ad4-ce70e7d4cbe3",
   "metadata": {},
   "source": [
    "A relation may be composed by more than a table; this may offer some consistency and operation efficiency.\n",
    "\n",
    "If two tables represents entitites which are related they can be **joined** by selecting one or more columns which contains those attributes which creates the relationship.\n",
    "\n",
    "Per each matched rows in a table, this is replicated as many times as the matched rows in the other table\n",
    "\n",
    "There are four kinds of available joins\n",
    "\n",
    "| join | data incuded | added missing values |\n",
    "|------|--------------|----------------|\n",
    "| inner | only rows which belongs to both tables | none |\n",
    "| left | all rows of the first table | for all non matching rows in the first table |\n",
    "| right | all rows of the second table | for all non matching rows in the second table |\n",
    "| outer | all rows of both tables | for all non matching rows |\n",
    "\n",
    "Suppose we have a list of courses, classrooms and classroom booking per each course; if we want to know where each professor should hold his lesson we need to join these tables\n",
    "\n",
    "| course_id | title | professor |\n",
    "|-----------|-------|-----------|\n",
    "| 1 | quantum field theory | Bohr |\n",
    "| 2 | thermodynamics | Carnot |\n",
    "| 3 | statistics | Gosset |\n",
    "\n",
    "| classroom_id | building | floor |\n",
    "|--------------|----------|-------|\n",
    "| p124 | Purple | 1 |\n",
    "| r201 | Red | 2 |\n",
    "\n",
    "| course_id | classroom_id | weekday | start | end |\n",
    "|-----------|--------------|---------|-------|-----|\n",
    "| 1 | p124 | Monday | 9 | 11 |\n",
    "| 1 | r201 | Wednesday | 14 | 15 |\n",
    "| 2 | r201 | Tuesday | 14 | 17 |\n",
    "| 3 | r201 | Monday | 14 | 15 |\n",
    "| 3 | p124 | Tuesday | 9 | 10 |\n",
    "| 3 | p124 | Wednesday | 9 | 10 |\n",
    "\n",
    "the `pd.merge()` function performs the join operation e.g.\n",
    "```python\n",
    "courses_classrooms = pd.merge(courses,classroom)\n",
    "courses_bookings = ps.merge(courses_classroom, bookings)\n",
    "```\n",
    "The default kind of join is `inner` you can use the `how=` optional argument to choose another kind.\n",
    "\n",
    "`pd.merge` will join by default all columns with identical name: if you want to restrict the join to a given list of column you can use the `on=` option.\n",
    "\n",
    "If you have different names for the join columns you can use `left_on=` and `right_on=` options to match them.\n",
    "\n",
    "### Exercise\n",
    "- in the country table we have a list of countries including their population\n",
    "- in the languages table we have a list of languages spoken in each country and the percentage of the population which speaks said language\n",
    "- in the country table we have a textual `code` which is uniquely assigned to each county\n",
    "- in the languages table we have the same code in a column called `country_code`\n",
    "\n",
    "1. load the language table from `datasets/WorldDBTables/LanguageTable.csv` using the `pd.read_csv` function and store it in a variable called `languages`\n",
    "2. create a table named `language_by_country` using the `pd.merge` function and joining the column `code` of table `countries` with the column `country_code` from the `languages` table\n",
    "3. calculate the number of people speaking a language by multiplying the `population` column with the `percentage` column (don't forget to divide by 100!); put the result in a column called `poeple_speaking`\n",
    "4. show some lines of the table keeping only the following columns: `[\"name\",\"language\",\"people_speaking\",\"official\"]` what do you see?"
   ]
  },
  {
   "cell_type": "code",
   "execution_count": null,
   "id": "324d0c7a-28cd-4d39-939c-7e7e31fc88b7",
   "metadata": {},
   "outputs": [],
   "source": [
    "languages = pd.read_csv(\"datasets/WorldDBTables/LanguageTable.csv\")"
   ]
  },
  {
   "cell_type": "code",
   "execution_count": null,
   "id": "eafab382-bd7d-4d52-b5bc-a8431b61d28b",
   "metadata": {},
   "outputs": [],
   "source": [
    "languages_by_country = pd.merge(countries, languages, how=\"inner\", left_on=[\"code\"], right_on=[\"country_code\"])\n",
    "languages_by_country[\"people_speaking\"] = languages_by_country.population * languages_by_country.percentage / 100\n",
    "languages_by_country[[\"name\",\"language\",\"people_speaking\",\"official\"]]"
   ]
  },
  {
   "cell_type": "markdown",
   "id": "8d05ecf4-f6f4-4fe6-b07d-1530c025222b",
   "metadata": {},
   "source": [
    "## Pivoting and melting"
   ]
  },
  {
   "cell_type": "markdown",
   "id": "976214ae-7a2f-4b65-a6d0-32e285eabea2",
   "metadata": {},
   "source": [
    "## Aggregation\n",
    "very often you may want to group your data according to one or more attribute and perform some calculation on each group, this operation is called **aggregation**\n",
    "\n",
    "e.g. suppose I want to split a restaurant bill with my friends and I have a dataframe which looks like the following table\n",
    "\n",
    "| person | item | amount |\n",
    "|--------|------|--------|\n",
    "| me | pepperoni pizza | 12 |\n",
    "| me | lager pils | 5 |\n",
    "| andrea | cheeseburger | 10 |\n",
    "| andrea | coca cola | 2 |\n",
    "| andrea | french fries | 2 |\n",
    "\n",
    "```python\n",
    "groups = bill.groupby([\"person\"])\n",
    "groups.agg({\"amount\":\"sum\"})\n",
    "```\n",
    "\n",
    "will return\n",
    "\n",
    "| person | amount |\n",
    "|--------|--------|\n",
    "| me | 17 |\n",
    "| andrea | 14 |"
   ]
  },
  {
   "cell_type": "markdown",
   "id": "d31d5f34-6d42-4825-aa58-406904cad215",
   "metadata": {},
   "source": [
    "## Exercise\n",
    "using the `languages_by_country` table we created in the previous exercise\n",
    "1. create a grouping by using the `\"language\"` column\n",
    "2. using the `.agg()` method calculate how many people speak each language\n",
    "3. sort the dataset from the largest group descending\n",
    "4. show the first lines using `.head()` method"
   ]
  },
  {
   "cell_type": "code",
   "execution_count": null,
   "id": "9c64bcb4-1f36-48ae-acfb-9e670a8748e3",
   "metadata": {},
   "outputs": [],
   "source": [
    "languages_by_country.groupby([\"language\"]) \\\n",
    ".agg({\"people_speaking\":\"sum\"}) \\\n",
    ".sort_values(\"people_speaking\",ascending=False) \\\n",
    ".head()"
   ]
  },
  {
   "cell_type": "code",
   "execution_count": null,
   "id": "3a50e0e3-64d7-47b4-b693-eebacd331d04",
   "metadata": {},
   "outputs": [],
   "source": []
  }
 ],
 "metadata": {
  "kernelspec": {
   "display_name": "Python 3 (ipykernel)",
   "language": "python",
   "name": "python3"
  },
  "language_info": {
   "codemirror_mode": {
    "name": "ipython",
    "version": 3
   },
   "file_extension": ".py",
   "mimetype": "text/x-python",
   "name": "python",
   "nbconvert_exporter": "python",
   "pygments_lexer": "ipython3",
   "version": "3.12.7"
  }
 },
 "nbformat": 4,
 "nbformat_minor": 5
}
