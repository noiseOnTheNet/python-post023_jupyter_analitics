{
 "cells": [
  {
   "cell_type": "code",
   "execution_count": null,
   "id": "8c36f281-bec6-49ff-8b73-90ec8b44cb87",
   "metadata": {},
   "outputs": [],
   "source": []
  },
  {
   "cell_type": "markdown",
   "id": "224b05ec-eadc-487a-818e-5ee97fddb205",
   "metadata": {},
   "source": [
    "### Accessing SDMX data\n",
    "SDMX is a discoverability and exchange format standard used by many statistical agencies.\n",
    "\n",
    "Python has a [library](https://sdmx1.readthedocs.io/en/latest/walkthrough.html) to support it"
   ]
  },
  {
   "cell_type": "code",
   "execution_count": null,
   "id": "7c639443-b25a-4347-9403-684b902dd4f1",
   "metadata": {},
   "outputs": [],
   "source": [
    "!pip install sdmx1"
   ]
  },
  {
   "cell_type": "code",
   "execution_count": 14,
   "id": "42fe4e22-185a-4722-a4f2-94bf26a101ba",
   "metadata": {},
   "outputs": [],
   "source": [
    "import sdmx"
   ]
  },
  {
   "cell_type": "code",
   "execution_count": 15,
   "id": "2259d7cd-9809-4e49-9828-63435fd85979",
   "metadata": {},
   "outputs": [],
   "source": [
    "estat = sdmx.Client(\"ESTAT\")"
   ]
  },
  {
   "cell_type": "code",
   "execution_count": null,
   "id": "dd742abe-ca8a-4f87-a6fb-ae6d2c2fbb24",
   "metadata": {},
   "outputs": [],
   "source": [
    "sdmx.to_pandas(resp,datetime={'dim': 'TIME_PERIOD', 'freq': 'freq'}) \\\n",
    "    .xs('Y15-74', level='age',\n",
    "        axis=1, drop_level=False)"
   ]
  },
  {
   "cell_type": "code",
   "execution_count": null,
   "id": "e5bad97f-c26a-4e52-8f06-2e8ccec180e9",
   "metadata": {},
   "outputs": [],
   "source": [
    "sdmx.list_sources()"
   ]
  },
  {
   "cell_type": "code",
   "execution_count": 40,
   "id": "30179aa3-4618-4949-b33b-443dbf79b816",
   "metadata": {},
   "outputs": [],
   "source": [
    "istat = sdmx.Client(\"ISTAT\")"
   ]
  },
  {
   "cell_type": "code",
   "execution_count": 48,
   "id": "739cd0fb-0eb7-41e9-a8e8-f3d694954d03",
   "metadata": {},
   "outputs": [],
   "source": [
    "resp = istat.dataflow()"
   ]
  },
  {
   "cell_type": "code",
   "execution_count": 56,
   "id": "25064863-8e29-40b4-b022-882fd7684212",
   "metadata": {},
   "outputs": [],
   "source": [
    "datasets = sdmx.to_pandas(resp)"
   ]
  },
  {
   "cell_type": "code",
   "execution_count": null,
   "id": "7a792dda-db7d-414f-84d5-3be499fcd80e",
   "metadata": {},
   "outputs": [],
   "source": [
    "datasets[\"dataflow\"][datasets[\"dataflow\"].str.contains(\"unempl\")]"
   ]
  }
 ],
 "metadata": {
  "kernelspec": {
   "display_name": "Python 3 (ipykernel)",
   "language": "python",
   "name": "python3"
  },
  "language_info": {
   "codemirror_mode": {
    "name": "ipython",
    "version": 3
   },
   "file_extension": ".py",
   "mimetype": "text/x-python",
   "name": "python",
   "nbconvert_exporter": "python",
   "pygments_lexer": "ipython3",
   "version": "3.12.7"
  }
 },
 "nbformat": 4,
 "nbformat_minor": 5
}
