{
 "cells": [
  {
   "cell_type": "markdown",
   "id": "1ee08fed-30ff-4624-9a39-b03116c1bc9b",
   "metadata": {},
   "source": [
    "# Introduction to Correlation and Linear Models"
   ]
  },
  {
   "cell_type": "code",
   "execution_count": null,
   "id": "fda84443-7000-43ab-af91-23749639795d",
   "metadata": {},
   "outputs": [],
   "source": [
    "!pip install openpyxl"
   ]
  },
  {
   "cell_type": "code",
   "execution_count": null,
   "id": "c88892ab-d45b-4f7d-bca5-5191749db5eb",
   "metadata": {},
   "outputs": [],
   "source": [
    "import pandas as pd"
   ]
  },
  {
   "cell_type": "code",
   "execution_count": null,
   "id": "39b5ab57-d124-47da-9ae6-a414b973e71c",
   "metadata": {},
   "outputs": [],
   "source": [
    "financial = pd.read_excel(\"20220909-global-financial-development-database.xlsx\",sheet_name=\"Data - August 2022\")"
   ]
  },
  {
   "cell_type": "code",
   "execution_count": null,
   "id": "9307a98e-9e68-4966-88ba-feb925ed9375",
   "metadata": {},
   "outputs": [],
   "source": [
    "for col in [\"iso3\", \"iso2\", \"imfn\", \"country\", \"region\", \"income\"]:\n",
    "    financial[col] = financial[col].astype(\"category\")"
   ]
  },
  {
   "cell_type": "code",
   "execution_count": null,
   "id": "5a7ec75a-da7d-4943-b778-47a244f53d7f",
   "metadata": {},
   "outputs": [],
   "source": [
    "financial[[\"country\",\"region\",\"di01\"]].describe(include=\"all\")"
   ]
  },
  {
   "cell_type": "code",
   "execution_count": null,
   "id": "36d2d3fe-1edd-4d3a-ac91-718a24948150",
   "metadata": {},
   "outputs": [],
   "source": [
    "import seaborn as sns"
   ]
  },
  {
   "cell_type": "code",
   "execution_count": null,
   "id": "25109801-4418-4a62-bd73-e993ecf48337",
   "metadata": {},
   "outputs": [],
   "source": [
    "sns.scatterplot(financial,x=\"year\",y=\"di01\",hue=\"region\")"
   ]
  },
  {
   "cell_type": "code",
   "execution_count": null,
   "id": "5ff96cd5-a45c-48a7-bdfb-dd8b682c6441",
   "metadata": {},
   "outputs": [],
   "source": [
    "fin_italy = financial.loc[financial[\"country\"]==\"Italy\",:]\n",
    "sns.scatterplot(fin_italy,x=\"year\",y=\"di01\")"
   ]
  },
  {
   "cell_type": "code",
   "execution_count": null,
   "id": "d88c46a6-89e7-4e86-883f-e4af9c74ffce",
   "metadata": {},
   "outputs": [],
   "source": [
    "sns.regression.regplot(fin_italy,x=\"year\",y=\"di01\")"
   ]
  },
  {
   "cell_type": "code",
   "execution_count": null,
   "id": "cb876dc6-dc29-4f28-858b-3b62f37994b8",
   "metadata": {},
   "outputs": [],
   "source": [
    "from scipy.stats import linregress"
   ]
  },
  {
   "cell_type": "code",
   "execution_count": null,
   "id": "73a75d9d-0ff8-43e0-8ed5-ed76955918aa",
   "metadata": {},
   "outputs": [],
   "source": [
    "result = linregress(fin_italy.year,fin_italy.di01)\n",
    "result"
   ]
  },
  {
   "cell_type": "code",
   "execution_count": null,
   "id": "69893151-ae36-4de2-9847-fcdc656a88d2",
   "metadata": {},
   "outputs": [],
   "source": [
    "fin_italy[[\"year\",\"di01\"]].describe()"
   ]
  },
  {
   "cell_type": "code",
   "execution_count": null,
   "id": "6630a6f0-984f-43b8-b007-ed08693e3ab3",
   "metadata": {},
   "outputs": [],
   "source": [
    "fin_italy_valued = fin_italy.loc[~fin_italy.di01.isna(),[\"year\",\"di01\"]]"
   ]
  },
  {
   "cell_type": "code",
   "execution_count": null,
   "id": "05d29a1e-ea61-486d-a04a-6b1470cbb6f3",
   "metadata": {},
   "outputs": [],
   "source": [
    "result = linregress(y=fin_italy_valued.di01,x=fin_italy_valued.year)\n",
    "result"
   ]
  },
  {
   "cell_type": "markdown",
   "id": "17091bfe-52f4-4fb7-8afb-856127a9f015",
   "metadata": {},
   "source": [
    "plotting residuals"
   ]
  },
  {
   "cell_type": "code",
   "execution_count": null,
   "id": "bbad0abf-4a17-445c-ba54-2a8b150e871a",
   "metadata": {},
   "outputs": [],
   "source": [
    "residuals = fin_italy_valued.di01 - (fin_italy_valued.year * result.slope + result.intercept)\n",
    "sns.scatterplot(x=fin_italy_valued.year, y=residuals)"
   ]
  },
  {
   "cell_type": "code",
   "execution_count": null,
   "id": "4f01861f-d219-4290-b126-b3a693cb1fd0",
   "metadata": {},
   "outputs": [],
   "source": []
  }
 ],
 "metadata": {
  "kernelspec": {
   "display_name": "Python 3 (ipykernel)",
   "language": "python",
   "name": "python3"
  },
  "language_info": {
   "codemirror_mode": {
    "name": "ipython",
    "version": 3
   },
   "file_extension": ".py",
   "mimetype": "text/x-python",
   "name": "python",
   "nbconvert_exporter": "python",
   "pygments_lexer": "ipython3",
   "version": "3.13.1"
  }
 },
 "nbformat": 4,
 "nbformat_minor": 5
}
