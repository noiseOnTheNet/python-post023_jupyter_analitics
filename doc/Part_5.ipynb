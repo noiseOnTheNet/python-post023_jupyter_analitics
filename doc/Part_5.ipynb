{
 "cells": [
  {
   "cell_type": "markdown",
   "id": "64909858-2157-4525-b5c0-dc267988e355",
   "metadata": {},
   "source": [
    "# Correlations and linear models\n",
    "A linear model estimate a response from the linear combination of one or more inputs\n",
    "\n",
    "$y \\approx x_1 \\alpha_1 + y_2 \\alpha_2 + ... + y_n \\alpha_n$\n",
    "\n",
    "$y \\approx \\vec{x} \\cdot \\vec{\\alpha}$"
   ]
  },
  {
   "cell_type": "markdown",
   "id": "552a4ab7-c3f3-4317-86c5-7268e53fae43",
   "metadata": {},
   "source": [
    "given an estimation $\\hat{y} = \\vec{x} \\cdot \\vec{\\alpha}$\n",
    "\n",
    "we look for the best $\\vec{\\alpha}$ which minimize all residuals $\\epsilon(\\hat{y}) = y - \\hat{y}$"
   ]
  },
  {
   "cell_type": "code",
   "execution_count": 1,
   "id": "9ba2a175-cb52-44ca-bd04-c3b2d64cce69",
   "metadata": {},
   "outputs": [],
   "source": [
    "import pandas as pd"
   ]
  },
  {
   "cell_type": "markdown",
   "id": "7855757b-2569-43ba-af23-d245aca8e0c7",
   "metadata": {
    "editable": true,
    "slideshow": {
     "slide_type": ""
    },
    "tags": []
   },
   "source": [
    "This dataset collects the yearly water and energy consuption estimation per capita in Milan collected by the italian government\n",
    "\n",
    "Data is grouped by \n",
    "\n",
    "- water consumption\n",
    "- methan consumption\n",
    "- electricity consumption"
   ]
  },
  {
   "cell_type": "code",
   "execution_count": 2,
   "id": "04449c2f-e912-4e46-813f-64c1bbf26d20",
   "metadata": {},
   "outputs": [],
   "source": [
    "cons = pd.read_csv(\"ds523_consumoacquaenergia.csv\",sep=\";\")"
   ]
  },
  {
   "cell_type": "code",
   "execution_count": 3,
   "id": "36a6179d-399d-4d42-b216-c41998c729db",
   "metadata": {},
   "outputs": [
    {
     "data": {
      "text/html": [
       "<div>\n",
       "<style scoped>\n",
       "    .dataframe tbody tr th:only-of-type {\n",
       "        vertical-align: middle;\n",
       "    }\n",
       "\n",
       "    .dataframe tbody tr th {\n",
       "        vertical-align: top;\n",
       "    }\n",
       "\n",
       "    .dataframe thead th {\n",
       "        text-align: right;\n",
       "    }\n",
       "</style>\n",
       "<table border=\"1\" class=\"dataframe\">\n",
       "  <thead>\n",
       "    <tr style=\"text-align: right;\">\n",
       "      <th></th>\n",
       "      <th>anno</th>\n",
       "      <th>Consumo pro capite tipo</th>\n",
       "      <th>Consumo pro capite</th>\n",
       "    </tr>\n",
       "  </thead>\n",
       "  <tbody>\n",
       "    <tr>\n",
       "      <th>count</th>\n",
       "      <td>36.00000</td>\n",
       "      <td>36</td>\n",
       "      <td>36.000000</td>\n",
       "    </tr>\n",
       "    <tr>\n",
       "      <th>unique</th>\n",
       "      <td>NaN</td>\n",
       "      <td>3</td>\n",
       "      <td>NaN</td>\n",
       "    </tr>\n",
       "    <tr>\n",
       "      <th>top</th>\n",
       "      <td>NaN</td>\n",
       "      <td>Energia elettrica per uso domestico</td>\n",
       "      <td>NaN</td>\n",
       "    </tr>\n",
       "    <tr>\n",
       "      <th>freq</th>\n",
       "      <td>NaN</td>\n",
       "      <td>12</td>\n",
       "      <td>NaN</td>\n",
       "    </tr>\n",
       "    <tr>\n",
       "      <th>mean</th>\n",
       "      <td>2005.50000</td>\n",
       "      <td>NaN</td>\n",
       "      <td>573.072222</td>\n",
       "    </tr>\n",
       "    <tr>\n",
       "      <th>std</th>\n",
       "      <td>3.50102</td>\n",
       "      <td>NaN</td>\n",
       "      <td>471.777743</td>\n",
       "    </tr>\n",
       "    <tr>\n",
       "      <th>min</th>\n",
       "      <td>2000.00000</td>\n",
       "      <td>NaN</td>\n",
       "      <td>80.400000</td>\n",
       "    </tr>\n",
       "    <tr>\n",
       "      <th>25%</th>\n",
       "      <td>2002.75000</td>\n",
       "      <td>NaN</td>\n",
       "      <td>89.625000</td>\n",
       "    </tr>\n",
       "    <tr>\n",
       "      <th>50%</th>\n",
       "      <td>2005.50000</td>\n",
       "      <td>NaN</td>\n",
       "      <td>432.900000</td>\n",
       "    </tr>\n",
       "    <tr>\n",
       "      <th>75%</th>\n",
       "      <td>2008.25000</td>\n",
       "      <td>NaN</td>\n",
       "      <td>1195.650000</td>\n",
       "    </tr>\n",
       "    <tr>\n",
       "      <th>max</th>\n",
       "      <td>2011.00000</td>\n",
       "      <td>NaN</td>\n",
       "      <td>1228.600000</td>\n",
       "    </tr>\n",
       "  </tbody>\n",
       "</table>\n",
       "</div>"
      ],
      "text/plain": [
       "              anno              Consumo pro capite tipo  Consumo pro capite\n",
       "count     36.00000                                   36           36.000000\n",
       "unique         NaN                                    3                 NaN\n",
       "top            NaN  Energia elettrica per uso domestico                 NaN\n",
       "freq           NaN                                   12                 NaN\n",
       "mean    2005.50000                                  NaN          573.072222\n",
       "std        3.50102                                  NaN          471.777743\n",
       "min     2000.00000                                  NaN           80.400000\n",
       "25%     2002.75000                                  NaN           89.625000\n",
       "50%     2005.50000                                  NaN          432.900000\n",
       "75%     2008.25000                                  NaN         1195.650000\n",
       "max     2011.00000                                  NaN         1228.600000"
      ]
     },
     "execution_count": 3,
     "metadata": {},
     "output_type": "execute_result"
    }
   ],
   "source": [
    "cons.describe(include=\"all\")"
   ]
  },
  {
   "cell_type": "code",
   "execution_count": 4,
   "id": "91158cfd-dd72-42cf-9f4d-6ab841eae64d",
   "metadata": {},
   "outputs": [
    {
     "data": {
      "text/plain": [
       "array(['Energia elettrica per uso domestico',\n",
       "       'Gas metano per uso domestico e riscaldamento',\n",
       "       'Acqua fatturata per uso domestico'], dtype=object)"
      ]
     },
     "execution_count": 4,
     "metadata": {},
     "output_type": "execute_result"
    }
   ],
   "source": [
    "cons[\"Consumo pro capite tipo\"].unique()"
   ]
  },
  {
   "cell_type": "code",
   "execution_count": 5,
   "id": "5a416116-6d70-47b7-a724-60975a8ea5e9",
   "metadata": {},
   "outputs": [],
   "source": [
    "translate = {\n",
    "    'Energia elettrica per uso domestico':'electricity',\n",
    "    'Gas metano per uso domestico e riscaldamento':'methan',\n",
    "    'Acqua fatturata per uso domestico':'water'\n",
    "}\n",
    "cons[\"type\"] = cons[\"Consumo pro capite tipo\"].map(translate)"
   ]
  },
  {
   "cell_type": "code",
   "execution_count": 6,
   "id": "8af52ac5-b4e0-4e60-98f6-5212fdb717fc",
   "metadata": {},
   "outputs": [
    {
     "data": {
      "text/html": [
       "<div>\n",
       "<style scoped>\n",
       "    .dataframe tbody tr th:only-of-type {\n",
       "        vertical-align: middle;\n",
       "    }\n",
       "\n",
       "    .dataframe tbody tr th {\n",
       "        vertical-align: top;\n",
       "    }\n",
       "\n",
       "    .dataframe thead th {\n",
       "        text-align: right;\n",
       "    }\n",
       "</style>\n",
       "<table border=\"1\" class=\"dataframe\">\n",
       "  <thead>\n",
       "    <tr style=\"text-align: right;\">\n",
       "      <th>type</th>\n",
       "      <th>year</th>\n",
       "      <th>electricity</th>\n",
       "      <th>methan</th>\n",
       "      <th>water</th>\n",
       "    </tr>\n",
       "  </thead>\n",
       "  <tbody>\n",
       "    <tr>\n",
       "      <th>0</th>\n",
       "      <td>2000</td>\n",
       "      <td>1130.2</td>\n",
       "      <td>509.0</td>\n",
       "      <td>92.1</td>\n",
       "    </tr>\n",
       "    <tr>\n",
       "      <th>1</th>\n",
       "      <td>2001</td>\n",
       "      <td>1143.9</td>\n",
       "      <td>500.7</td>\n",
       "      <td>91.3</td>\n",
       "    </tr>\n",
       "    <tr>\n",
       "      <th>2</th>\n",
       "      <td>2002</td>\n",
       "      <td>1195.5</td>\n",
       "      <td>504.2</td>\n",
       "      <td>90.4</td>\n",
       "    </tr>\n",
       "    <tr>\n",
       "      <th>3</th>\n",
       "      <td>2003</td>\n",
       "      <td>1222.8</td>\n",
       "      <td>480.2</td>\n",
       "      <td>87.3</td>\n",
       "    </tr>\n",
       "    <tr>\n",
       "      <th>4</th>\n",
       "      <td>2004</td>\n",
       "      <td>1228.6</td>\n",
       "      <td>442.4</td>\n",
       "      <td>80.4</td>\n",
       "    </tr>\n",
       "    <tr>\n",
       "      <th>5</th>\n",
       "      <td>2005</td>\n",
       "      <td>1225.0</td>\n",
       "      <td>434.5</td>\n",
       "      <td>81.3</td>\n",
       "    </tr>\n",
       "    <tr>\n",
       "      <th>6</th>\n",
       "      <td>2006</td>\n",
       "      <td>1219.7</td>\n",
       "      <td>431.3</td>\n",
       "      <td>82.2</td>\n",
       "    </tr>\n",
       "    <tr>\n",
       "      <th>7</th>\n",
       "      <td>2007</td>\n",
       "      <td>1197.0</td>\n",
       "      <td>381.1</td>\n",
       "      <td>81.6</td>\n",
       "    </tr>\n",
       "    <tr>\n",
       "      <th>8</th>\n",
       "      <td>2008</td>\n",
       "      <td>1203.0</td>\n",
       "      <td>384.9</td>\n",
       "      <td>84.5</td>\n",
       "    </tr>\n",
       "    <tr>\n",
       "      <th>9</th>\n",
       "      <td>2009</td>\n",
       "      <td>1202.9</td>\n",
       "      <td>389.6</td>\n",
       "      <td>85.8</td>\n",
       "    </tr>\n",
       "    <tr>\n",
       "      <th>10</th>\n",
       "      <td>2010</td>\n",
       "      <td>1200.7</td>\n",
       "      <td>406.2</td>\n",
       "      <td>83.2</td>\n",
       "    </tr>\n",
       "    <tr>\n",
       "      <th>11</th>\n",
       "      <td>2011</td>\n",
       "      <td>1196.1</td>\n",
       "      <td>377.9</td>\n",
       "      <td>83.1</td>\n",
       "    </tr>\n",
       "  </tbody>\n",
       "</table>\n",
       "</div>"
      ],
      "text/plain": [
       "type  year  electricity  methan  water\n",
       "0     2000       1130.2   509.0   92.1\n",
       "1     2001       1143.9   500.7   91.3\n",
       "2     2002       1195.5   504.2   90.4\n",
       "3     2003       1222.8   480.2   87.3\n",
       "4     2004       1228.6   442.4   80.4\n",
       "5     2005       1225.0   434.5   81.3\n",
       "6     2006       1219.7   431.3   82.2\n",
       "7     2007       1197.0   381.1   81.6\n",
       "8     2008       1203.0   384.9   84.5\n",
       "9     2009       1202.9   389.6   85.8\n",
       "10    2010       1200.7   406.2   83.2\n",
       "11    2011       1196.1   377.9   83.1"
      ]
     },
     "execution_count": 6,
     "metadata": {},
     "output_type": "execute_result"
    }
   ],
   "source": [
    "cons2 = cons.pivot(index=\"anno\",columns=\"type\",values=\"Consumo pro capite\").reset_index()\n",
    "cons2 = cons2.rename({\"anno\":\"year\"}, axis=\"columns\")\n",
    "cons2"
   ]
  },
  {
   "cell_type": "code",
   "execution_count": 8,
   "id": "49f32047-445b-403d-b58b-1be274353f2f",
   "metadata": {},
   "outputs": [
    {
     "data": {
      "text/plain": [
       "<seaborn.axisgrid.PairGrid at 0x220423dea50>"
      ]
     },
     "execution_count": 8,
     "metadata": {},
     "output_type": "execute_result"
    },
    {
     "data": {
      "image/png": "[encoded data removed]",
      "text/plain": [
       "<Figure size 1000x1000 with 20 Axes>"
      ]
     },
     "metadata": {},
     "output_type": "display_data"
    }
   ],
   "source": [
    "import seaborn as sns\n",
    "sns.pairplot(cons2)"
   ]
  },
  {
   "cell_type": "code",
   "execution_count": 12,
   "id": "f7ac46f8-1ba4-4c87-99b6-d8f1c4b5e2db",
   "metadata": {},
   "outputs": [
    {
     "data": {
      "text/plain": [
       "<Axes: xlabel='year', ylabel='methan'>"
      ]
     },
     "execution_count": 12,
     "metadata": {},
     "output_type": "execute_result"
    },
    {
     "data": {
      "image/png": "[encoded data removed]",
      "text/plain": [
       "<Figure size 640x480 with 1 Axes>"
      ]
     },
     "metadata": {},
     "output_type": "display_data"
    }
   ],
   "source": [
    "sns.regplot(cons2,x=\"year\",y=\"methan\")"
   ]
  },
  {
   "cell_type": "markdown",
   "id": "679fb861-865c-466e-b0f7-2806a5ffcafb",
   "metadata": {},
   "source": [
    "## Covariance and correlation\n",
    "\n",
    "The [covariance matrix](https://en.wikipedia.org/wiki/Covariance_matrix), defined as\n",
    "\n",
    "$cov[X_i, X_j] = E[(X_i - E[X_i])(X_j - E[X_j])]$\n",
    "\n",
    "is the multidimensional extension of the variance, elements of the diagonal being the variance of the corrisponding dimension; its eigenvectors define an ellipsoid representing the most important combinations of the dimensional features; this is used in Principal Compaonent Analysis, a technique which helps to define the most impactful features.\n",
    "\n",
    "By dividing each element with the product of the standard deviations we have the [correlation matrix](https://en.wikipedia.org/wiki/Correlation)\n",
    "\n",
    "$corr[X_i, X_j] = \\frac{E[(X_i - E[X_i])(X_j - E[X_j])]}{\\sigma_i\\sigma_j}$\n",
    "\n",
    "The elements outside the diagonal are numbers between -1 and 1; 0 represents no correlation (like a spherical cloud) while 1 and -1 represent positive and negative correlation respectively; this gives us a first estimation of the possible linear dependecies within a set of observation features"
   ]
  },
  {
   "cell_type": "code",
   "execution_count": 17,
   "id": "aca5ed21-310a-4cfa-8104-bc05490456b1",
   "metadata": {},
   "outputs": [
    {
     "data": {
      "text/plain": [
       "array([[ 1.        ,  0.44786015, -0.93548315, -0.65540971],\n",
       "       [ 0.44786015,  1.        , -0.46029677, -0.77514369],\n",
       "       [-0.93548315, -0.46029677,  1.        ,  0.75208366],\n",
       "       [-0.65540971, -0.77514369,  0.75208366,  1.        ]])"
      ]
     },
     "execution_count": 17,
     "metadata": {},
     "output_type": "execute_result"
    }
   ],
   "source": [
    "import numpy as np\n",
    "# numpy expects a matrix where each feature is in a row instead of a column\n",
    "# thus we need to transpose it\n",
    "np.corrcoef(np.transpose(np.array(cons2)))"
   ]
  },
  {
   "cell_type": "markdown",
   "id": "1905b506-3a4d-4a8a-acb8-5fbac1e9eb86",
   "metadata": {},
   "source": [
    "we can see that the negative correlation between year and methan is about -0.9 which makes it a good candidate for a linear correlation"
   ]
  },
  {
   "cell_type": "code",
   "execution_count": 18,
   "id": "c24ca76a-d3d5-4ee8-af1b-cfe1ab61bd0b",
   "metadata": {},
   "outputs": [],
   "source": [
    "from scipy import stats"
   ]
  },
  {
   "cell_type": "markdown",
   "id": "fdaa4ec5-929a-4096-9622-716dbd88297b",
   "metadata": {},
   "source": [
    "## Regression calculation\n",
    "in this simple case we have \n",
    "- few observations\n",
    "- only one input value\n",
    "so we may directly use the [Ordinary Least Squares regression method](https://en.wikipedia.org/wiki/Ordinary_least_squares) to evaluate the best fit"
   ]
  },
  {
   "cell_type": "code",
   "execution_count": 19,
   "id": "83a59592-e94d-4dfb-8fbf-2363e4d00fa1",
   "metadata": {},
   "outputs": [
    {
     "data": {
      "text/plain": [
       "LinregressResult(slope=np.float64(-13.141258741258738), intercept=np.float64(26791.62773892773), rvalue=np.float64(-0.9354831530794605), pvalue=np.float64(7.894692952340761e-06), stderr=np.float64(1.5697563928623894), intercept_stderr=np.float64(3148.151109622701))"
      ]
     },
     "execution_count": 19,
     "metadata": {},
     "output_type": "execute_result"
    }
   ],
   "source": [
    "result = stats.linregress(x=cons2.year, y=cons2.methan)\n",
    "result"
   ]
  },
  {
   "cell_type": "markdown",
   "id": "b0e77a9c-05d4-499c-9b3f-af3d4ecc6039",
   "metadata": {},
   "source": [
    "the returned object contains some interesting values; let's check the first two:\n",
    "- slope\n",
    "- intercept\n",
    "  \n",
    "allows us to write a simple prediction formula"
   ]
  },
  {
   "cell_type": "code",
   "execution_count": 27,
   "id": "0011f5e3-ea4b-4248-9f49-5f8f01cb04ce",
   "metadata": {},
   "outputs": [],
   "source": [
    "def predict_methan(year):\n",
    "    return result.slope * year + result.intercept\n"
   ]
  },
  {
   "cell_type": "markdown",
   "id": "455cf468-485c-4d2b-a9f1-1b6d9619c0d7",
   "metadata": {},
   "source": [
    "with this formula we can build a chart of our linear regression"
   ]
  },
  {
   "cell_type": "code",
   "execution_count": 28,
   "id": "901aa23b-e3fc-433a-9b5b-4a709eeba270",
   "metadata": {},
   "outputs": [],
   "source": [
    "import matplotlib.pyplot as plt\n",
    "import seaborn as sns"
   ]
  },
  {
   "cell_type": "code",
   "execution_count": 32,
   "id": "df9688aa-5cb0-4a73-a3ef-4e3f63e44928",
   "metadata": {},
   "outputs": [
    {
     "data": {
      "text/plain": [
       "[<matplotlib.lines.Line2D at 0x2204c732350>]"
      ]
     },
     "execution_count": 32,
     "metadata": {},
     "output_type": "execute_result"
    },
    {
     "data": {
      "image/png": "[encoded data removed]",
      "text/plain": [
       "<Figure size 640x480 with 1 Axes>"
      ]
     },
     "metadata": {},
     "output_type": "display_data"
    }
   ],
   "source": [
    "# create a plot canvas\n",
    "fig, ax = plt.subplots(1,1)\n",
    "\n",
    "#first plot the points into our canvas\n",
    "sns.scatterplot(x=cons2.year, y=cons2.methan, ax=ax)\n",
    "\n",
    "# then plot a line from the first to the last point on the same canvas\n",
    "year0 = min(cons2.year)\n",
    "year1 = max(cons2.year)\n",
    "ax.plot((year0,year1),(predict_methan(year0),predict_methan(year1)))"
   ]
  },
  {
   "cell_type": "markdown",
   "id": "900888fc-d76d-4255-80ab-60b36ea1230a",
   "metadata": {},
   "source": [
    "note: the polymorphism allows to properly use the prodict_methan function also with pandas Series"
   ]
  },
  {
   "cell_type": "markdown",
   "id": "ad02f23d-905d-4f37-ad4a-3942e8a59b52",
   "metadata": {},
   "source": [
    "## Assessing the qaulity of a regression"
   ]
  },
  {
   "cell_type": "code",
   "execution_count": 30,
   "id": "3a97d9c3-c9f0-458e-9ce5-30c94879328d",
   "metadata": {},
   "outputs": [],
   "source": [
    "residuals = cons2.methan - predict_methan(cons2.year)"
   ]
  },
  {
   "cell_type": "markdown",
   "id": "5a1034f2-2c36-45bc-ae17-a380eb3f1be0",
   "metadata": {},
   "source": [
    "looking at residuals distribution may show some pattern; in this case we may assume there is a better way to represent the relation between the features under investigation.\n",
    "\n",
    "In our example looks like there is no apparent pattern"
   ]
  },
  {
   "cell_type": "code",
   "execution_count": 31,
   "id": "79d43919-716f-41e5-a4c4-7703046903c4",
   "metadata": {},
   "outputs": [
    {
     "data": {
      "text/plain": [
       "<Axes: xlabel='year', ylabel='None'>"
      ]
     },
     "execution_count": 31,
     "metadata": {},
     "output_type": "execute_result"
    },
    {
     "data": {
      "image/png": "[encoded data removed]",
      "text/plain": [
       "<Figure size 640x480 with 1 Axes>"
      ]
     },
     "metadata": {},
     "output_type": "display_data"
    }
   ],
   "source": [
    "sns.scatterplot(x=cons2.year, y=residuals)"
   ]
  },
  {
   "cell_type": "markdown",
   "id": "5c2ead8b-5836-430d-b740-6debee27bacd",
   "metadata": {},
   "source": [
    "The next step would be to assess the variance of residuals respect to the total variance of the distribution of the output variable Y:\n",
    "\n",
    "\\begin{equation}\n",
    "\\frac{var[\\epsilon]}{var[Y]} = \\frac{E[(\\epsilon - E[\\epsilon])^2]}{E[(Y - E[Y])^2]}\n",
    "\\end{equation}\n",
    "\n",
    "let's use $\\hat{Y}$ to represent the predicted values;\n",
    "by knowing that the mean of the residuals is 0 and their definition \n",
    "\n",
    "\\begin{equation}\n",
    "E[\\epsilon] = 0\n",
    "\\end{equation}\n",
    "\n",
    "\\begin{equation}\n",
    "\\epsilon = Y - \\hat{Y}\n",
    "\\end{equation}\n",
    "\n",
    "we have\n",
    "\n",
    "\\begin{equation}\n",
    "\\frac{var[\\epsilon]}{var[Y]} = \\frac{E[(Y - \\hat{Y})^2]}{E[(Y - E[Y])^2]}\n",
    "\\end{equation}\n",
    "\n",
    "now the quantity\n",
    "\n",
    "\\begin{equation}\n",
    "R^2 = 1 - \\frac{E[(Y - \\hat{Y})^2]}{E[(Y - E[Y])^2]}\n",
    "\\end{equation}\n",
    "\n",
    "represent the fraction of the variance of the original dataset explained by the linear relation: this is a real number between 0 and 1 where 0 represents no actual explaination (i.e. the mean has the same prediction power) to 1 representing all the relation is explained"
   ]
  },
  {
   "cell_type": "markdown",
   "id": "6718617e-6399-4871-9602-8c5cf99e02a3",
   "metadata": {},
   "source": [
    "## Multiple input parameters"
   ]
  },
  {
   "cell_type": "code",
   "execution_count": 1,
   "id": "904f15d8-9f86-46de-a943-5a522a83bfb3",
   "metadata": {},
   "outputs": [
    {
     "name": "stdout",
     "output_type": "stream",
     "text": [
      "Collecting statsmodels\n",
      "  Downloading statsmodels-0.14.4-cp312-cp312-manylinux_2_17_x86_64.manylinux2014_x86_64.whl.metadata (9.2 kB)\n",
      "Requirement already satisfied: numpy<3,>=1.22.3 in /home/marco/workspace/python_blog/python-post023_jupyter_analitics/venv/lib/python3.12/site-packages (from statsmodels) (2.1.3)\n",
      "Requirement already satisfied: scipy!=1.9.2,>=1.8 in /home/marco/workspace/python_blog/python-post023_jupyter_analitics/venv/lib/python3.12/site-packages (from statsmodels) (1.14.1)\n",
      "Requirement already satisfied: pandas!=2.1.0,>=1.4 in /home/marco/workspace/python_blog/python-post023_jupyter_analitics/venv/lib/python3.12/site-packages (from statsmodels) (2.2.3)\n",
      "Collecting patsy>=0.5.6 (from statsmodels)\n",
      "  Downloading patsy-1.0.1-py2.py3-none-any.whl.metadata (3.3 kB)\n",
      "Requirement already satisfied: packaging>=21.3 in /home/marco/workspace/python_blog/python-post023_jupyter_analitics/venv/lib/python3.12/site-packages (from statsmodels) (24.2)\n",
      "Requirement already satisfied: python-dateutil>=2.8.2 in /home/marco/workspace/python_blog/python-post023_jupyter_analitics/venv/lib/python3.12/site-packages (from pandas!=2.1.0,>=1.4->statsmodels) (2.9.0.post0)\n",
      "Requirement already satisfied: pytz>=2020.1 in /home/marco/workspace/python_blog/python-post023_jupyter_analitics/venv/lib/python3.12/site-packages (from pandas!=2.1.0,>=1.4->statsmodels) (2024.2)\n",
      "Requirement already satisfied: tzdata>=2022.7 in /home/marco/workspace/python_blog/python-post023_jupyter_analitics/venv/lib/python3.12/site-packages (from pandas!=2.1.0,>=1.4->statsmodels) (2024.2)\n",
      "Requirement already satisfied: six>=1.5 in /home/marco/workspace/python_blog/python-post023_jupyter_analitics/venv/lib/python3.12/site-packages (from python-dateutil>=2.8.2->pandas!=2.1.0,>=1.4->statsmodels) (1.16.0)\n",
      "Downloading statsmodels-0.14.4-cp312-cp312-manylinux_2_17_x86_64.manylinux2014_x86_64.whl (10.7 MB)\n",
      "\u001b[2K   \u001b[38;2;114;156;31m━━━━━━━━━━━━━━━━━━━━━━━━━━━━━━━━━━━━━━━━\u001b[0m \u001b[32m10.7/10.7 MB\u001b[0m \u001b[31m3.9 MB/s\u001b[0m eta \u001b[36m0:00:00\u001b[0m[36m0:00:01\u001b[0m36m0:00:01\u001b[0m:02\u001b[0m\n",
      "\u001b[?25hDownloading patsy-1.0.1-py2.py3-none-any.whl (232 kB)\n",
      "Installing collected packages: patsy, statsmodels\n",
      "Successfully installed patsy-1.0.1 statsmodels-0.14.4\n"
     ]
    }
   ],
   "source": [
    "!pip install statsmodels"
   ]
  },
  {
   "cell_type": "code",
   "execution_count": 9,
   "id": "b5c113da-5185-43bd-9234-a732a8af5548",
   "metadata": {},
   "outputs": [],
   "source": [
    "import statsmodels as sm\n",
    "from statsmodels.api import formula as smf\n",
    "import requests\n",
    "import pandas as pd"
   ]
  },
  {
   "cell_type": "markdown",
   "id": "56cb36df-171c-4210-b3f6-f919cea4783f",
   "metadata": {},
   "source": [
    "|Columns | meaning|\n",
    "|--------|--------|\n",
    "|CrimeRat| Crime rate: # of offenses reported to police per million population\n",
    "|MaleTeen| The number of males of age 14-24 per 1000 population\n",
    "|South   | Indicator variable for Southern states (0 = No, 1 = Yes)\n",
    "|Educ    | Mean # of years of schooling for persons of age 25 or older\n",
    "|Police60| 1960 per capita expenditure on police by state and local government\n",
    "|Police59| 1959 per capita expenditure on police by state and local government\n",
    "|Labor   | Labor force participation rate per 1000 civilian urban males age 14-24\n",
    "|Males   | The number of males per 1000 females\n",
    "|Pop     | State population size in hundred thousands\n",
    "|NonWhite| The number of non-whites per 1000 population\n",
    "|Unemp1  | Unemployment rate of urban males per 1000 of age 14-24\n",
    "|Unemp2  | Unemployment rate of urban males per 1000 of age 35-39\n",
    "|Median  | Median value of transferable goods and assets or family income in tens of $\n",
    "|BelowMed| The number of families per 1000 earning below 1/2 the median income\n",
    "\n"
   ]
  },
  {
   "cell_type": "code",
   "execution_count": 31,
   "id": "030fbd21-c81c-45a6-8d75-e3fcc4ddb278",
   "metadata": {},
   "outputs": [],
   "source": [
    "# result  = requests.get(\"https://stats.idre.ucla.edu/wp-content/uploads/2016/02/crime.txt\")\n",
    "headers = \"crimerat maleteen south educ police60 police59 labor  males pop nonwhite unemp1  unemp2 median belowmed\".split()\n",
    "crime = pd.read_csv(\n",
    "    \"https://stats.idre.ucla.edu/wp-content/uploads/2016/02/crime.txt\",\n",
    "    sep=r\"\\s+\",\n",
    "    names=headers,\n",
    "    dtype=float\n",
    ")"
   ]
  },
  {
   "cell_type": "code",
   "execution_count": 24,
   "id": "f2c25022-215a-423e-9571-5d1043b12679",
   "metadata": {},
   "outputs": [
    {
     "data": {
      "text/html": [
       "<div>\n",
       "<style scoped>\n",
       "    .dataframe tbody tr th:only-of-type {\n",
       "        vertical-align: middle;\n",
       "    }\n",
       "\n",
       "    .dataframe tbody tr th {\n",
       "        vertical-align: top;\n",
       "    }\n",
       "\n",
       "    .dataframe thead th {\n",
       "        text-align: right;\n",
       "    }\n",
       "</style>\n",
       "<table border=\"1\" class=\"dataframe\">\n",
       "  <thead>\n",
       "    <tr style=\"text-align: right;\">\n",
       "      <th></th>\n",
       "      <th>crimerat</th>\n",
       "      <th>maleteen</th>\n",
       "      <th>south</th>\n",
       "      <th>educ</th>\n",
       "      <th>police60</th>\n",
       "      <th>police59</th>\n",
       "      <th>labor</th>\n",
       "      <th>males</th>\n",
       "      <th>pop</th>\n",
       "      <th>nonwhite</th>\n",
       "      <th>unemp1</th>\n",
       "      <th>unemp2</th>\n",
       "      <th>median</th>\n",
       "      <th>belowmed</th>\n",
       "    </tr>\n",
       "  </thead>\n",
       "  <tbody>\n",
       "    <tr>\n",
       "      <th>0</th>\n",
       "      <td>79.1</td>\n",
       "      <td>151.0</td>\n",
       "      <td>1.0</td>\n",
       "      <td>9.1</td>\n",
       "      <td>58.0</td>\n",
       "      <td>56.0</td>\n",
       "      <td>510.0</td>\n",
       "      <td>950.0</td>\n",
       "      <td>33.0</td>\n",
       "      <td>301.0</td>\n",
       "      <td>108.0</td>\n",
       "      <td>41.0</td>\n",
       "      <td>394.0</td>\n",
       "      <td>261.0</td>\n",
       "    </tr>\n",
       "    <tr>\n",
       "      <th>1</th>\n",
       "      <td>163.5</td>\n",
       "      <td>143.0</td>\n",
       "      <td>0.0</td>\n",
       "      <td>11.3</td>\n",
       "      <td>103.0</td>\n",
       "      <td>95.0</td>\n",
       "      <td>583.0</td>\n",
       "      <td>1012.0</td>\n",
       "      <td>13.0</td>\n",
       "      <td>102.0</td>\n",
       "      <td>96.0</td>\n",
       "      <td>36.0</td>\n",
       "      <td>557.0</td>\n",
       "      <td>194.0</td>\n",
       "    </tr>\n",
       "    <tr>\n",
       "      <th>2</th>\n",
       "      <td>57.8</td>\n",
       "      <td>142.0</td>\n",
       "      <td>1.0</td>\n",
       "      <td>8.9</td>\n",
       "      <td>45.0</td>\n",
       "      <td>44.0</td>\n",
       "      <td>533.0</td>\n",
       "      <td>969.0</td>\n",
       "      <td>18.0</td>\n",
       "      <td>219.0</td>\n",
       "      <td>94.0</td>\n",
       "      <td>33.0</td>\n",
       "      <td>318.0</td>\n",
       "      <td>250.0</td>\n",
       "    </tr>\n",
       "    <tr>\n",
       "      <th>3</th>\n",
       "      <td>196.9</td>\n",
       "      <td>136.0</td>\n",
       "      <td>0.0</td>\n",
       "      <td>12.1</td>\n",
       "      <td>149.0</td>\n",
       "      <td>141.0</td>\n",
       "      <td>577.0</td>\n",
       "      <td>994.0</td>\n",
       "      <td>157.0</td>\n",
       "      <td>80.0</td>\n",
       "      <td>102.0</td>\n",
       "      <td>39.0</td>\n",
       "      <td>673.0</td>\n",
       "      <td>167.0</td>\n",
       "    </tr>\n",
       "    <tr>\n",
       "      <th>4</th>\n",
       "      <td>123.4</td>\n",
       "      <td>141.0</td>\n",
       "      <td>0.0</td>\n",
       "      <td>12.1</td>\n",
       "      <td>109.0</td>\n",
       "      <td>101.0</td>\n",
       "      <td>591.0</td>\n",
       "      <td>985.0</td>\n",
       "      <td>18.0</td>\n",
       "      <td>30.0</td>\n",
       "      <td>91.0</td>\n",
       "      <td>20.0</td>\n",
       "      <td>578.0</td>\n",
       "      <td>174.0</td>\n",
       "    </tr>\n",
       "  </tbody>\n",
       "</table>\n",
       "</div>"
      ],
      "text/plain": [
       "   crimerat  maleteen  south  educ  police60  police59  labor   males    pop  \\\n",
       "0      79.1     151.0    1.0   9.1      58.0      56.0  510.0   950.0   33.0   \n",
       "1     163.5     143.0    0.0  11.3     103.0      95.0  583.0  1012.0   13.0   \n",
       "2      57.8     142.0    1.0   8.9      45.0      44.0  533.0   969.0   18.0   \n",
       "3     196.9     136.0    0.0  12.1     149.0     141.0  577.0   994.0  157.0   \n",
       "4     123.4     141.0    0.0  12.1     109.0     101.0  591.0   985.0   18.0   \n",
       "\n",
       "   nonwhite  unemp1  unemp2  median  belowmed  \n",
       "0     301.0   108.0    41.0   394.0     261.0  \n",
       "1     102.0    96.0    36.0   557.0     194.0  \n",
       "2     219.0    94.0    33.0   318.0     250.0  \n",
       "3      80.0   102.0    39.0   673.0     167.0  \n",
       "4      30.0    91.0    20.0   578.0     174.0  "
      ]
     },
     "execution_count": 24,
     "metadata": {},
     "output_type": "execute_result"
    }
   ],
   "source": [
    "crime.head()"
   ]
  },
  {
   "cell_type": "code",
   "execution_count": 36,
   "id": "7ce3118d-d82a-43cb-b648-20226863c291",
   "metadata": {},
   "outputs": [
    {
     "data": {
      "text/html": [
       "<div>\n",
       "<style scoped>\n",
       "    .dataframe tbody tr th:only-of-type {\n",
       "        vertical-align: middle;\n",
       "    }\n",
       "\n",
       "    .dataframe tbody tr th {\n",
       "        vertical-align: top;\n",
       "    }\n",
       "\n",
       "    .dataframe thead th {\n",
       "        text-align: right;\n",
       "    }\n",
       "</style>\n",
       "<table border=\"1\" class=\"dataframe\">\n",
       "  <thead>\n",
       "    <tr style=\"text-align: right;\">\n",
       "      <th></th>\n",
       "      <th>correlation</th>\n",
       "      <th>features</th>\n",
       "    </tr>\n",
       "  </thead>\n",
       "  <tbody>\n",
       "    <tr>\n",
       "      <th>0</th>\n",
       "      <td>-0.089472</td>\n",
       "      <td>maleteen</td>\n",
       "    </tr>\n",
       "    <tr>\n",
       "      <th>1</th>\n",
       "      <td>-0.090637</td>\n",
       "      <td>south</td>\n",
       "    </tr>\n",
       "    <tr>\n",
       "      <th>2</th>\n",
       "      <td>0.322835</td>\n",
       "      <td>educ</td>\n",
       "    </tr>\n",
       "    <tr>\n",
       "      <th>3</th>\n",
       "      <td>0.687604</td>\n",
       "      <td>police60</td>\n",
       "    </tr>\n",
       "    <tr>\n",
       "      <th>4</th>\n",
       "      <td>0.666714</td>\n",
       "      <td>police59</td>\n",
       "    </tr>\n",
       "    <tr>\n",
       "      <th>5</th>\n",
       "      <td>0.188866</td>\n",
       "      <td>labor</td>\n",
       "    </tr>\n",
       "    <tr>\n",
       "      <th>6</th>\n",
       "      <td>0.213914</td>\n",
       "      <td>males</td>\n",
       "    </tr>\n",
       "    <tr>\n",
       "      <th>7</th>\n",
       "      <td>0.337474</td>\n",
       "      <td>pop</td>\n",
       "    </tr>\n",
       "    <tr>\n",
       "      <th>8</th>\n",
       "      <td>0.032599</td>\n",
       "      <td>nonwhite</td>\n",
       "    </tr>\n",
       "    <tr>\n",
       "      <th>9</th>\n",
       "      <td>-0.050478</td>\n",
       "      <td>unemp1</td>\n",
       "    </tr>\n",
       "    <tr>\n",
       "      <th>10</th>\n",
       "      <td>0.177321</td>\n",
       "      <td>unemp2</td>\n",
       "    </tr>\n",
       "    <tr>\n",
       "      <th>11</th>\n",
       "      <td>0.441320</td>\n",
       "      <td>median</td>\n",
       "    </tr>\n",
       "    <tr>\n",
       "      <th>12</th>\n",
       "      <td>-0.179024</td>\n",
       "      <td>belowmed</td>\n",
       "    </tr>\n",
       "  </tbody>\n",
       "</table>\n",
       "</div>"
      ],
      "text/plain": [
       "    correlation  features\n",
       "0     -0.089472  maleteen\n",
       "1     -0.090637     south\n",
       "2      0.322835      educ\n",
       "3      0.687604  police60\n",
       "4      0.666714  police59\n",
       "5      0.188866     labor\n",
       "6      0.213914     males\n",
       "7      0.337474       pop\n",
       "8      0.032599  nonwhite\n",
       "9     -0.050478    unemp1\n",
       "10     0.177321    unemp2\n",
       "11     0.441320    median\n",
       "12    -0.179024  belowmed"
      ]
     },
     "execution_count": 36,
     "metadata": {},
     "output_type": "execute_result"
    }
   ],
   "source": [
    "import numpy as np\n",
    "crime_array = np.transpose(np.array(crime))\n",
    "covariance = np.cov(crime_array)\n",
    "correlation = np.corrcoef(crime_array)\n",
    "pd.DataFrame({\"correlation\":correlation[0,1:],\"features\":headers[1:]})"
   ]
  },
  {
   "cell_type": "markdown",
   "id": "fd442845-7060-41ba-a128-b0bb7589a74a",
   "metadata": {},
   "source": [
    "apparently the crime rate most relevant correlation seems to be the increase in police expenditure which may probably be more a consequence than a causation"
   ]
  },
  {
   "cell_type": "code",
   "execution_count": 64,
   "id": "7f3dc42d-2f69-4867-8c85-5fa7fc1cfd2c",
   "metadata": {},
   "outputs": [],
   "source": [
    "result = np.linalg.eig(covariance)\n",
    "def relevant(headers, result, rank):\n",
    "    \"\"\"retruns the features of the rank-th eigenvalue sorted from the largest descending\"\"\"\n",
    "    # extract the rank-th eigenvector\n",
    "    vector = result.eigenvectors[:,rank] \n",
    "    # square it to get rid of sign\n",
    "    vector_sq = vector * vector\n",
    "    # get the order from smallest to largest\n",
    "    order = vector_sq.argsort()\n",
    "    # reverse order and return the features from the most relevant\n",
    "    return [headers[int(i)] for i in reversed(order)]"
   ]
  },
  {
   "cell_type": "code",
   "execution_count": 66,
   "id": "a7a0bf69-c069-4eff-9d88-4c69a44fdc74",
   "metadata": {},
   "outputs": [
    {
     "name": "stdout",
     "output_type": "stream",
     "text": [
      "['nonwhite', 'median', 'belowmed', 'police60', 'police59', 'labor', 'crimerat', 'maleteen', 'males', 'pop', 'unemp1', 'educ', 'south', 'unemp2']\n",
      "['nonwhite', 'median', 'crimerat', 'pop', 'police60', 'police59', 'males', 'belowmed', 'labor', 'unemp1', 'unemp2', 'maleteen', 'south', 'educ']\n",
      "['labor', 'males', 'pop', 'crimerat', 'nonwhite', 'belowmed', 'maleteen', 'unemp2', 'unemp1', 'police59', 'educ', 'police60', 'median', 'south']\n",
      "['pop', 'crimerat', 'median', 'belowmed', 'nonwhite', 'labor', 'police60', 'police59', 'males', 'unemp1', 'unemp2', 'maleteen', 'educ', 'south']\n",
      "['labor', 'crimerat', 'pop', 'males', 'unemp1', 'unemp2', 'belowmed', 'police60', 'nonwhite', 'police59', 'median', 'maleteen', 'south', 'educ']\n"
     ]
    }
   ],
   "source": [
    "for i in range(5):\n",
    "    print(relevant(headers, result, i))"
   ]
  },
  {
   "cell_type": "code",
   "execution_count": 83,
   "id": "7c0a4783-903a-41ad-8a80-fede6e980bbd",
   "metadata": {},
   "outputs": [
    {
     "name": "stdout",
     "output_type": "stream",
     "text": [
      "crimerat ~ nonwhite + median + belowmed + police60 + police59 + labor\n"
     ]
    },
    {
     "data": {
      "text/html": [
       "<table class=\"simpletable\">\n",
       "<caption>OLS Regression Results</caption>\n",
       "<tr>\n",
       "  <th>Dep. Variable:</th>        <td>crimerat</td>     <th>  R-squared:         </th> <td>   0.638</td>\n",
       "</tr>\n",
       "<tr>\n",
       "  <th>Model:</th>                   <td>OLS</td>       <th>  Adj. R-squared:    </th> <td>   0.584</td>\n",
       "</tr>\n",
       "<tr>\n",
       "  <th>Method:</th>             <td>Least Squares</td>  <th>  F-statistic:       </th> <td>   11.75</td>\n",
       "</tr>\n",
       "<tr>\n",
       "  <th>Date:</th>             <td>Sat, 04 Jan 2025</td> <th>  Prob (F-statistic):</th> <td>1.48e-07</td>\n",
       "</tr>\n",
       "<tr>\n",
       "  <th>Time:</th>                 <td>15:05:42</td>     <th>  Log-Likelihood:    </th> <td> -214.10</td>\n",
       "</tr>\n",
       "<tr>\n",
       "  <th>No. Observations:</th>      <td>    47</td>      <th>  AIC:               </th> <td>   442.2</td>\n",
       "</tr>\n",
       "<tr>\n",
       "  <th>Df Residuals:</th>          <td>    40</td>      <th>  BIC:               </th> <td>   455.2</td>\n",
       "</tr>\n",
       "<tr>\n",
       "  <th>Df Model:</th>              <td>     6</td>      <th>                     </th>     <td> </td>   \n",
       "</tr>\n",
       "<tr>\n",
       "  <th>Covariance Type:</th>      <td>nonrobust</td>    <th>                     </th>     <td> </td>   \n",
       "</tr>\n",
       "</table>\n",
       "<table class=\"simpletable\">\n",
       "<tr>\n",
       "      <td></td>         <th>coef</th>     <th>std err</th>      <th>t</th>      <th>P>|t|</th>  <th>[0.025</th>    <th>0.975]</th>  \n",
       "</tr>\n",
       "<tr>\n",
       "  <th>Intercept</th> <td> -304.9695</td> <td>   96.968</td> <td>   -3.145</td> <td> 0.003</td> <td> -500.950</td> <td> -108.989</td>\n",
       "</tr>\n",
       "<tr>\n",
       "  <th>nonwhite</th>  <td>    0.0050</td> <td>    0.056</td> <td>    0.088</td> <td> 0.930</td> <td>   -0.109</td> <td>    0.119</td>\n",
       "</tr>\n",
       "<tr>\n",
       "  <th>median</th>    <td>    0.1588</td> <td>    0.112</td> <td>    1.419</td> <td> 0.164</td> <td>   -0.067</td> <td>    0.385</td>\n",
       "</tr>\n",
       "<tr>\n",
       "  <th>belowmed</th>  <td>    0.6875</td> <td>    0.223</td> <td>    3.085</td> <td> 0.004</td> <td>    0.237</td> <td>    1.138</td>\n",
       "</tr>\n",
       "<tr>\n",
       "  <th>police60</th>  <td>    1.3928</td> <td>    1.140</td> <td>    1.222</td> <td> 0.229</td> <td>   -0.910</td> <td>    3.696</td>\n",
       "</tr>\n",
       "<tr>\n",
       "  <th>police59</th>  <td>   -0.3685</td> <td>    1.239</td> <td>   -0.297</td> <td> 0.768</td> <td>   -2.872</td> <td>    2.135</td>\n",
       "</tr>\n",
       "<tr>\n",
       "  <th>labor</th>     <td>    0.1592</td> <td>    0.100</td> <td>    1.594</td> <td> 0.119</td> <td>   -0.043</td> <td>    0.361</td>\n",
       "</tr>\n",
       "</table>\n",
       "<table class=\"simpletable\">\n",
       "<tr>\n",
       "  <th>Omnibus:</th>       <td> 2.339</td> <th>  Durbin-Watson:     </th> <td>   2.004</td>\n",
       "</tr>\n",
       "<tr>\n",
       "  <th>Prob(Omnibus):</th> <td> 0.311</td> <th>  Jarque-Bera (JB):  </th> <td>   1.581</td>\n",
       "</tr>\n",
       "<tr>\n",
       "  <th>Skew:</th>          <td>-0.436</td> <th>  Prob(JB):          </th> <td>   0.454</td>\n",
       "</tr>\n",
       "<tr>\n",
       "  <th>Kurtosis:</th>      <td> 3.220</td> <th>  Cond. No.          </th> <td>2.16e+04</td>\n",
       "</tr>\n",
       "</table><br/><br/>Notes:<br/>[1] Standard Errors assume that the covariance matrix of the errors is correctly specified.<br/>[2] The condition number is large, 2.16e+04. This might indicate that there are<br/>strong multicollinearity or other numerical problems."
      ],
      "text/latex": [
       "\\begin{center}\n",
       "\\begin{tabular}{lclc}\n",
       "\\toprule\n",
       "\\textbf{Dep. Variable:}    &     crimerat     & \\textbf{  R-squared:         } &     0.638   \\\\\n",
       "\\textbf{Model:}            &       OLS        & \\textbf{  Adj. R-squared:    } &     0.584   \\\\\n",
       "\\textbf{Method:}           &  Least Squares   & \\textbf{  F-statistic:       } &     11.75   \\\\\n",
       "\\textbf{Date:}             & Sat, 04 Jan 2025 & \\textbf{  Prob (F-statistic):} &  1.48e-07   \\\\\n",
       "\\textbf{Time:}             &     15:05:42     & \\textbf{  Log-Likelihood:    } &   -214.10   \\\\\n",
       "\\textbf{No. Observations:} &          47      & \\textbf{  AIC:               } &     442.2   \\\\\n",
       "\\textbf{Df Residuals:}     &          40      & \\textbf{  BIC:               } &     455.2   \\\\\n",
       "\\textbf{Df Model:}         &           6      & \\textbf{                     } &             \\\\\n",
       "\\textbf{Covariance Type:}  &    nonrobust     & \\textbf{                     } &             \\\\\n",
       "\\bottomrule\n",
       "\\end{tabular}\n",
       "\\begin{tabular}{lcccccc}\n",
       "                   & \\textbf{coef} & \\textbf{std err} & \\textbf{t} & \\textbf{P$> |$t$|$} & \\textbf{[0.025} & \\textbf{0.975]}  \\\\\n",
       "\\midrule\n",
       "\\textbf{Intercept} &    -304.9695  &       96.968     &    -3.145  &         0.003        &     -500.950    &     -108.989     \\\\\n",
       "\\textbf{nonwhite}  &       0.0050  &        0.056     &     0.088  &         0.930        &       -0.109    &        0.119     \\\\\n",
       "\\textbf{median}    &       0.1588  &        0.112     &     1.419  &         0.164        &       -0.067    &        0.385     \\\\\n",
       "\\textbf{belowmed}  &       0.6875  &        0.223     &     3.085  &         0.004        &        0.237    &        1.138     \\\\\n",
       "\\textbf{police60}  &       1.3928  &        1.140     &     1.222  &         0.229        &       -0.910    &        3.696     \\\\\n",
       "\\textbf{police59}  &      -0.3685  &        1.239     &    -0.297  &         0.768        &       -2.872    &        2.135     \\\\\n",
       "\\textbf{labor}     &       0.1592  &        0.100     &     1.594  &         0.119        &       -0.043    &        0.361     \\\\\n",
       "\\bottomrule\n",
       "\\end{tabular}\n",
       "\\begin{tabular}{lclc}\n",
       "\\textbf{Omnibus:}       &  2.339 & \\textbf{  Durbin-Watson:     } &    2.004  \\\\\n",
       "\\textbf{Prob(Omnibus):} &  0.311 & \\textbf{  Jarque-Bera (JB):  } &    1.581  \\\\\n",
       "\\textbf{Skew:}          & -0.436 & \\textbf{  Prob(JB):          } &    0.454  \\\\\n",
       "\\textbf{Kurtosis:}      &  3.220 & \\textbf{  Cond. No.          } & 2.16e+04  \\\\\n",
       "\\bottomrule\n",
       "\\end{tabular}\n",
       "%\\caption{OLS Regression Results}\n",
       "\\end{center}\n",
       "\n",
       "Notes: \\newline\n",
       " [1] Standard Errors assume that the covariance matrix of the errors is correctly specified. \\newline\n",
       " [2] The condition number is large, 2.16e+04. This might indicate that there are \\newline\n",
       " strong multicollinearity or other numerical problems."
      ],
      "text/plain": [
       "<class 'statsmodels.iolib.summary.Summary'>\n",
       "\"\"\"\n",
       "                            OLS Regression Results                            \n",
       "==============================================================================\n",
       "Dep. Variable:               crimerat   R-squared:                       0.638\n",
       "Model:                            OLS   Adj. R-squared:                  0.584\n",
       "Method:                 Least Squares   F-statistic:                     11.75\n",
       "Date:                Sat, 04 Jan 2025   Prob (F-statistic):           1.48e-07\n",
       "Time:                        15:05:42   Log-Likelihood:                -214.10\n",
       "No. Observations:                  47   AIC:                             442.2\n",
       "Df Residuals:                      40   BIC:                             455.2\n",
       "Df Model:                           6                                         \n",
       "Covariance Type:            nonrobust                                         \n",
       "==============================================================================\n",
       "                 coef    std err          t      P>|t|      [0.025      0.975]\n",
       "------------------------------------------------------------------------------\n",
       "Intercept   -304.9695     96.968     -3.145      0.003    -500.950    -108.989\n",
       "nonwhite       0.0050      0.056      0.088      0.930      -0.109       0.119\n",
       "median         0.1588      0.112      1.419      0.164      -0.067       0.385\n",
       "belowmed       0.6875      0.223      3.085      0.004       0.237       1.138\n",
       "police60       1.3928      1.140      1.222      0.229      -0.910       3.696\n",
       "police59      -0.3685      1.239     -0.297      0.768      -2.872       2.135\n",
       "labor          0.1592      0.100      1.594      0.119      -0.043       0.361\n",
       "==============================================================================\n",
       "Omnibus:                        2.339   Durbin-Watson:                   2.004\n",
       "Prob(Omnibus):                  0.311   Jarque-Bera (JB):                1.581\n",
       "Skew:                          -0.436   Prob(JB):                        0.454\n",
       "Kurtosis:                       3.220   Cond. No.                     2.16e+04\n",
       "==============================================================================\n",
       "\n",
       "Notes:\n",
       "[1] Standard Errors assume that the covariance matrix of the errors is correctly specified.\n",
       "[2] The condition number is large, 2.16e+04. This might indicate that there are\n",
       "strong multicollinearity or other numerical problems.\n",
       "\"\"\""
      ]
     },
     "execution_count": 83,
     "metadata": {},
     "output_type": "execute_result"
    }
   ],
   "source": [
    "formula = \"crimerat ~ \"+ (\" + \".join(relevant(headers, result, 0)[:6]))\n",
    "print(formula)\n",
    "model = smf.ols(formula,crime)\n",
    "regression = model.fit()\n",
    "regression.summary()"
   ]
  },
  {
   "cell_type": "code",
   "execution_count": 84,
   "id": "ca7d6a61-12b4-4e40-9a6f-529f70c042fc",
   "metadata": {},
   "outputs": [
    {
     "name": "stdout",
     "output_type": "stream",
     "text": [
      "crimerat ~ nonwhite + median\n"
     ]
    },
    {
     "data": {
      "text/html": [
       "<table class=\"simpletable\">\n",
       "<caption>OLS Regression Results</caption>\n",
       "<tr>\n",
       "  <th>Dep. Variable:</th>        <td>crimerat</td>     <th>  R-squared:         </th> <td>   0.327</td>\n",
       "</tr>\n",
       "<tr>\n",
       "  <th>Model:</th>                   <td>OLS</td>       <th>  Adj. R-squared:    </th> <td>   0.296</td>\n",
       "</tr>\n",
       "<tr>\n",
       "  <th>Method:</th>             <td>Least Squares</td>  <th>  F-statistic:       </th> <td>   10.67</td>\n",
       "</tr>\n",
       "<tr>\n",
       "  <th>Date:</th>             <td>Sat, 04 Jan 2025</td> <th>  Prob (F-statistic):</th> <td>0.000167</td>\n",
       "</tr>\n",
       "<tr>\n",
       "  <th>Time:</th>                 <td>15:06:00</td>     <th>  Log-Likelihood:    </th> <td> -228.69</td>\n",
       "</tr>\n",
       "<tr>\n",
       "  <th>No. Observations:</th>      <td>    47</td>      <th>  AIC:               </th> <td>   463.4</td>\n",
       "</tr>\n",
       "<tr>\n",
       "  <th>Df Residuals:</th>          <td>    44</td>      <th>  BIC:               </th> <td>   468.9</td>\n",
       "</tr>\n",
       "<tr>\n",
       "  <th>Df Model:</th>              <td>     2</td>      <th>                     </th>     <td> </td>   \n",
       "</tr>\n",
       "<tr>\n",
       "  <th>Covariance Type:</th>      <td>nonrobust</td>    <th>                     </th>     <td> </td>   \n",
       "</tr>\n",
       "</table>\n",
       "<table class=\"simpletable\">\n",
       "<tr>\n",
       "      <td></td>         <th>coef</th>     <th>std err</th>      <th>t</th>      <th>P>|t|</th>  <th>[0.025</th>    <th>0.975]</th>  \n",
       "</tr>\n",
       "<tr>\n",
       "  <th>Intercept</th> <td>  -75.3979</td> <td>   36.330</td> <td>   -2.075</td> <td> 0.044</td> <td> -148.617</td> <td>   -2.179</td>\n",
       "</tr>\n",
       "<tr>\n",
       "  <th>nonwhite</th>  <td>    0.1691</td> <td>    0.058</td> <td>    2.934</td> <td> 0.005</td> <td>    0.053</td> <td>    0.285</td>\n",
       "</tr>\n",
       "<tr>\n",
       "  <th>median</th>    <td>    0.2832</td> <td>    0.061</td> <td>    4.611</td> <td> 0.000</td> <td>    0.159</td> <td>    0.407</td>\n",
       "</tr>\n",
       "</table>\n",
       "<table class=\"simpletable\">\n",
       "<tr>\n",
       "  <th>Omnibus:</th>       <td> 3.019</td> <th>  Durbin-Watson:     </th> <td>   2.286</td>\n",
       "</tr>\n",
       "<tr>\n",
       "  <th>Prob(Omnibus):</th> <td> 0.221</td> <th>  Jarque-Bera (JB):  </th> <td>   2.735</td>\n",
       "</tr>\n",
       "<tr>\n",
       "  <th>Skew:</th>          <td> 0.582</td> <th>  Prob(JB):          </th> <td>   0.255</td>\n",
       "</tr>\n",
       "<tr>\n",
       "  <th>Kurtosis:</th>      <td> 2.793</td> <th>  Cond. No.          </th> <td>4.16e+03</td>\n",
       "</tr>\n",
       "</table><br/><br/>Notes:<br/>[1] Standard Errors assume that the covariance matrix of the errors is correctly specified.<br/>[2] The condition number is large, 4.16e+03. This might indicate that there are<br/>strong multicollinearity or other numerical problems."
      ],
      "text/latex": [
       "\\begin{center}\n",
       "\\begin{tabular}{lclc}\n",
       "\\toprule\n",
       "\\textbf{Dep. Variable:}    &     crimerat     & \\textbf{  R-squared:         } &     0.327   \\\\\n",
       "\\textbf{Model:}            &       OLS        & \\textbf{  Adj. R-squared:    } &     0.296   \\\\\n",
       "\\textbf{Method:}           &  Least Squares   & \\textbf{  F-statistic:       } &     10.67   \\\\\n",
       "\\textbf{Date:}             & Sat, 04 Jan 2025 & \\textbf{  Prob (F-statistic):} &  0.000167   \\\\\n",
       "\\textbf{Time:}             &     15:06:00     & \\textbf{  Log-Likelihood:    } &   -228.69   \\\\\n",
       "\\textbf{No. Observations:} &          47      & \\textbf{  AIC:               } &     463.4   \\\\\n",
       "\\textbf{Df Residuals:}     &          44      & \\textbf{  BIC:               } &     468.9   \\\\\n",
       "\\textbf{Df Model:}         &           2      & \\textbf{                     } &             \\\\\n",
       "\\textbf{Covariance Type:}  &    nonrobust     & \\textbf{                     } &             \\\\\n",
       "\\bottomrule\n",
       "\\end{tabular}\n",
       "\\begin{tabular}{lcccccc}\n",
       "                   & \\textbf{coef} & \\textbf{std err} & \\textbf{t} & \\textbf{P$> |$t$|$} & \\textbf{[0.025} & \\textbf{0.975]}  \\\\\n",
       "\\midrule\n",
       "\\textbf{Intercept} &     -75.3979  &       36.330     &    -2.075  &         0.044        &     -148.617    &       -2.179     \\\\\n",
       "\\textbf{nonwhite}  &       0.1691  &        0.058     &     2.934  &         0.005        &        0.053    &        0.285     \\\\\n",
       "\\textbf{median}    &       0.2832  &        0.061     &     4.611  &         0.000        &        0.159    &        0.407     \\\\\n",
       "\\bottomrule\n",
       "\\end{tabular}\n",
       "\\begin{tabular}{lclc}\n",
       "\\textbf{Omnibus:}       &  3.019 & \\textbf{  Durbin-Watson:     } &    2.286  \\\\\n",
       "\\textbf{Prob(Omnibus):} &  0.221 & \\textbf{  Jarque-Bera (JB):  } &    2.735  \\\\\n",
       "\\textbf{Skew:}          &  0.582 & \\textbf{  Prob(JB):          } &    0.255  \\\\\n",
       "\\textbf{Kurtosis:}      &  2.793 & \\textbf{  Cond. No.          } & 4.16e+03  \\\\\n",
       "\\bottomrule\n",
       "\\end{tabular}\n",
       "%\\caption{OLS Regression Results}\n",
       "\\end{center}\n",
       "\n",
       "Notes: \\newline\n",
       " [1] Standard Errors assume that the covariance matrix of the errors is correctly specified. \\newline\n",
       " [2] The condition number is large, 4.16e+03. This might indicate that there are \\newline\n",
       " strong multicollinearity or other numerical problems."
      ],
      "text/plain": [
       "<class 'statsmodels.iolib.summary.Summary'>\n",
       "\"\"\"\n",
       "                            OLS Regression Results                            \n",
       "==============================================================================\n",
       "Dep. Variable:               crimerat   R-squared:                       0.327\n",
       "Model:                            OLS   Adj. R-squared:                  0.296\n",
       "Method:                 Least Squares   F-statistic:                     10.67\n",
       "Date:                Sat, 04 Jan 2025   Prob (F-statistic):           0.000167\n",
       "Time:                        15:06:00   Log-Likelihood:                -228.69\n",
       "No. Observations:                  47   AIC:                             463.4\n",
       "Df Residuals:                      44   BIC:                             468.9\n",
       "Df Model:                           2                                         \n",
       "Covariance Type:            nonrobust                                         \n",
       "==============================================================================\n",
       "                 coef    std err          t      P>|t|      [0.025      0.975]\n",
       "------------------------------------------------------------------------------\n",
       "Intercept    -75.3979     36.330     -2.075      0.044    -148.617      -2.179\n",
       "nonwhite       0.1691      0.058      2.934      0.005       0.053       0.285\n",
       "median         0.2832      0.061      4.611      0.000       0.159       0.407\n",
       "==============================================================================\n",
       "Omnibus:                        3.019   Durbin-Watson:                   2.286\n",
       "Prob(Omnibus):                  0.221   Jarque-Bera (JB):                2.735\n",
       "Skew:                           0.582   Prob(JB):                        0.255\n",
       "Kurtosis:                       2.793   Cond. No.                     4.16e+03\n",
       "==============================================================================\n",
       "\n",
       "Notes:\n",
       "[1] Standard Errors assume that the covariance matrix of the errors is correctly specified.\n",
       "[2] The condition number is large, 4.16e+03. This might indicate that there are\n",
       "strong multicollinearity or other numerical problems.\n",
       "\"\"\""
      ]
     },
     "execution_count": 84,
     "metadata": {},
     "output_type": "execute_result"
    }
   ],
   "source": [
    "formula = \"crimerat ~ \"+ (\" + \".join(relevant(headers, result, 1)[:2]))\n",
    "print(formula)\n",
    "model = smf.ols(formula,crime)\n",
    "regression = model.fit()\n",
    "regression.summary()"
   ]
  },
  {
   "cell_type": "code",
   "execution_count": 85,
   "id": "deba3934-b472-4646-a754-af83a1375749",
   "metadata": {},
   "outputs": [
    {
     "name": "stdout",
     "output_type": "stream",
     "text": [
      "crimerat ~ labor + males + pop\n"
     ]
    },
    {
     "data": {
      "text/html": [
       "<table class=\"simpletable\">\n",
       "<caption>OLS Regression Results</caption>\n",
       "<tr>\n",
       "  <th>Dep. Variable:</th>        <td>crimerat</td>     <th>  R-squared:         </th> <td>   0.265</td>\n",
       "</tr>\n",
       "<tr>\n",
       "  <th>Model:</th>                   <td>OLS</td>       <th>  Adj. R-squared:    </th> <td>   0.214</td>\n",
       "</tr>\n",
       "<tr>\n",
       "  <th>Method:</th>             <td>Least Squares</td>  <th>  F-statistic:       </th> <td>   5.167</td>\n",
       "</tr>\n",
       "<tr>\n",
       "  <th>Date:</th>             <td>Sat, 04 Jan 2025</td> <th>  Prob (F-statistic):</th>  <td>0.00387</td>\n",
       "</tr>\n",
       "<tr>\n",
       "  <th>Time:</th>                 <td>15:08:35</td>     <th>  Log-Likelihood:    </th> <td> -230.75</td>\n",
       "</tr>\n",
       "<tr>\n",
       "  <th>No. Observations:</th>      <td>    47</td>      <th>  AIC:               </th> <td>   469.5</td>\n",
       "</tr>\n",
       "<tr>\n",
       "  <th>Df Residuals:</th>          <td>    43</td>      <th>  BIC:               </th> <td>   476.9</td>\n",
       "</tr>\n",
       "<tr>\n",
       "  <th>Df Model:</th>              <td>     3</td>      <th>                     </th>     <td> </td>   \n",
       "</tr>\n",
       "<tr>\n",
       "  <th>Covariance Type:</th>      <td>nonrobust</td>    <th>                     </th>     <td> </td>   \n",
       "</tr>\n",
       "</table>\n",
       "<table class=\"simpletable\">\n",
       "<tr>\n",
       "      <td></td>         <th>coef</th>     <th>std err</th>      <th>t</th>      <th>P>|t|</th>  <th>[0.025</th>    <th>0.975]</th>  \n",
       "</tr>\n",
       "<tr>\n",
       "  <th>Intercept</th> <td> -466.8007</td> <td>  189.461</td> <td>   -2.464</td> <td> 0.018</td> <td> -848.886</td> <td>  -84.716</td>\n",
       "</tr>\n",
       "<tr>\n",
       "  <th>labor</th>     <td>    0.0453</td> <td>    0.147</td> <td>    0.309</td> <td> 0.759</td> <td>   -0.251</td> <td>    0.341</td>\n",
       "</tr>\n",
       "<tr>\n",
       "  <th>males</th>     <td>    0.5219</td> <td>    0.219</td> <td>    2.383</td> <td> 0.022</td> <td>    0.080</td> <td>    0.964</td>\n",
       "</tr>\n",
       "<tr>\n",
       "  <th>pop</th>       <td>    0.5147</td> <td>    0.147</td> <td>    3.511</td> <td> 0.001</td> <td>    0.219</td> <td>    0.810</td>\n",
       "</tr>\n",
       "</table>\n",
       "<table class=\"simpletable\">\n",
       "<tr>\n",
       "  <th>Omnibus:</th>       <td> 2.488</td> <th>  Durbin-Watson:     </th> <td>   2.156</td>\n",
       "</tr>\n",
       "<tr>\n",
       "  <th>Prob(Omnibus):</th> <td> 0.288</td> <th>  Jarque-Bera (JB):  </th> <td>   2.239</td>\n",
       "</tr>\n",
       "<tr>\n",
       "  <th>Skew:</th>          <td> 0.524</td> <th>  Prob(JB):          </th> <td>   0.326</td>\n",
       "</tr>\n",
       "<tr>\n",
       "  <th>Kurtosis:</th>      <td> 2.784</td> <th>  Cond. No.          </th> <td>4.29e+04</td>\n",
       "</tr>\n",
       "</table><br/><br/>Notes:<br/>[1] Standard Errors assume that the covariance matrix of the errors is correctly specified.<br/>[2] The condition number is large, 4.29e+04. This might indicate that there are<br/>strong multicollinearity or other numerical problems."
      ],
      "text/latex": [
       "\\begin{center}\n",
       "\\begin{tabular}{lclc}\n",
       "\\toprule\n",
       "\\textbf{Dep. Variable:}    &     crimerat     & \\textbf{  R-squared:         } &     0.265   \\\\\n",
       "\\textbf{Model:}            &       OLS        & \\textbf{  Adj. R-squared:    } &     0.214   \\\\\n",
       "\\textbf{Method:}           &  Least Squares   & \\textbf{  F-statistic:       } &     5.167   \\\\\n",
       "\\textbf{Date:}             & Sat, 04 Jan 2025 & \\textbf{  Prob (F-statistic):} &  0.00387    \\\\\n",
       "\\textbf{Time:}             &     15:08:35     & \\textbf{  Log-Likelihood:    } &   -230.75   \\\\\n",
       "\\textbf{No. Observations:} &          47      & \\textbf{  AIC:               } &     469.5   \\\\\n",
       "\\textbf{Df Residuals:}     &          43      & \\textbf{  BIC:               } &     476.9   \\\\\n",
       "\\textbf{Df Model:}         &           3      & \\textbf{                     } &             \\\\\n",
       "\\textbf{Covariance Type:}  &    nonrobust     & \\textbf{                     } &             \\\\\n",
       "\\bottomrule\n",
       "\\end{tabular}\n",
       "\\begin{tabular}{lcccccc}\n",
       "                   & \\textbf{coef} & \\textbf{std err} & \\textbf{t} & \\textbf{P$> |$t$|$} & \\textbf{[0.025} & \\textbf{0.975]}  \\\\\n",
       "\\midrule\n",
       "\\textbf{Intercept} &    -466.8007  &      189.461     &    -2.464  &         0.018        &     -848.886    &      -84.716     \\\\\n",
       "\\textbf{labor}     &       0.0453  &        0.147     &     0.309  &         0.759        &       -0.251    &        0.341     \\\\\n",
       "\\textbf{males}     &       0.5219  &        0.219     &     2.383  &         0.022        &        0.080    &        0.964     \\\\\n",
       "\\textbf{pop}       &       0.5147  &        0.147     &     3.511  &         0.001        &        0.219    &        0.810     \\\\\n",
       "\\bottomrule\n",
       "\\end{tabular}\n",
       "\\begin{tabular}{lclc}\n",
       "\\textbf{Omnibus:}       &  2.488 & \\textbf{  Durbin-Watson:     } &    2.156  \\\\\n",
       "\\textbf{Prob(Omnibus):} &  0.288 & \\textbf{  Jarque-Bera (JB):  } &    2.239  \\\\\n",
       "\\textbf{Skew:}          &  0.524 & \\textbf{  Prob(JB):          } &    0.326  \\\\\n",
       "\\textbf{Kurtosis:}      &  2.784 & \\textbf{  Cond. No.          } & 4.29e+04  \\\\\n",
       "\\bottomrule\n",
       "\\end{tabular}\n",
       "%\\caption{OLS Regression Results}\n",
       "\\end{center}\n",
       "\n",
       "Notes: \\newline\n",
       " [1] Standard Errors assume that the covariance matrix of the errors is correctly specified. \\newline\n",
       " [2] The condition number is large, 4.29e+04. This might indicate that there are \\newline\n",
       " strong multicollinearity or other numerical problems."
      ],
      "text/plain": [
       "<class 'statsmodels.iolib.summary.Summary'>\n",
       "\"\"\"\n",
       "                            OLS Regression Results                            \n",
       "==============================================================================\n",
       "Dep. Variable:               crimerat   R-squared:                       0.265\n",
       "Model:                            OLS   Adj. R-squared:                  0.214\n",
       "Method:                 Least Squares   F-statistic:                     5.167\n",
       "Date:                Sat, 04 Jan 2025   Prob (F-statistic):            0.00387\n",
       "Time:                        15:08:35   Log-Likelihood:                -230.75\n",
       "No. Observations:                  47   AIC:                             469.5\n",
       "Df Residuals:                      43   BIC:                             476.9\n",
       "Df Model:                           3                                         \n",
       "Covariance Type:            nonrobust                                         \n",
       "==============================================================================\n",
       "                 coef    std err          t      P>|t|      [0.025      0.975]\n",
       "------------------------------------------------------------------------------\n",
       "Intercept   -466.8007    189.461     -2.464      0.018    -848.886     -84.716\n",
       "labor          0.0453      0.147      0.309      0.759      -0.251       0.341\n",
       "males          0.5219      0.219      2.383      0.022       0.080       0.964\n",
       "pop            0.5147      0.147      3.511      0.001       0.219       0.810\n",
       "==============================================================================\n",
       "Omnibus:                        2.488   Durbin-Watson:                   2.156\n",
       "Prob(Omnibus):                  0.288   Jarque-Bera (JB):                2.239\n",
       "Skew:                           0.524   Prob(JB):                        0.326\n",
       "Kurtosis:                       2.784   Cond. No.                     4.29e+04\n",
       "==============================================================================\n",
       "\n",
       "Notes:\n",
       "[1] Standard Errors assume that the covariance matrix of the errors is correctly specified.\n",
       "[2] The condition number is large, 4.29e+04. This might indicate that there are\n",
       "strong multicollinearity or other numerical problems.\n",
       "\"\"\""
      ]
     },
     "execution_count": 85,
     "metadata": {},
     "output_type": "execute_result"
    }
   ],
   "source": [
    "formula = \"crimerat ~ \"+ (\" + \".join(relevant(headers, result, 2)[:3]))\n",
    "print(formula)\n",
    "model = smf.ols(formula,crime)\n",
    "regression = model.fit()\n",
    "regression.summary()"
   ]
  },
  {
   "cell_type": "code",
   "execution_count": 90,
   "id": "8d5ade05-cfbe-4810-89c6-3eb094fc0511",
   "metadata": {},
   "outputs": [],
   "source": [
    "import matplotlib.pyplot as mpl\n",
    "import seaborn as sns"
   ]
  },
  {
   "cell_type": "code",
   "execution_count": 100,
   "id": "1b4ced14-d0b1-4fe1-9760-00f215ef4934",
   "metadata": {},
   "outputs": [
    {
     "data": {
      "image/png": "[encoded data removed]",
      "text/plain": [
       "<Figure size 1800x300 with 6 Axes>"
      ]
     },
     "metadata": {},
     "output_type": "display_data"
    }
   ],
   "source": [
    "fig, axs = mpl.subplots(1,6,sharey=True,figsize=(18,3))\n",
    "features = relevant(headers, result, 0)[:6]\n",
    "for i in range(6):\n",
    "    sns.scatterplot(x=crime[features[i]],y=crime.crimerat,ax=axs[i])"
   ]
  },
  {
   "cell_type": "code",
   "execution_count": 102,
   "id": "b304b100-47d3-4125-8fe1-009944d0a3bb",
   "metadata": {},
   "outputs": [
    {
     "data": {
      "image/png": "[encoded data removed]",
      "text/plain": [
       "<Figure size 600x300 with 2 Axes>"
      ]
     },
     "metadata": {},
     "output_type": "display_data"
    }
   ],
   "source": [
    "fig, axs = mpl.subplots(1,2,sharey=True,figsize=(6,3))\n",
    "features = relevant(headers, result, 1)[:2]\n",
    "for i in range(2):\n",
    "    sns.scatterplot(x=crime[features[i]],y=crime.crimerat,ax=axs[i])"
   ]
  },
  {
   "cell_type": "code",
   "execution_count": 103,
   "id": "3acca344-e265-4950-b5c0-493dea834cc2",
   "metadata": {},
   "outputs": [
    {
     "data": {
      "image/png": "[encoded data removed]",
      "text/plain": [
       "<Figure size 900x300 with 3 Axes>"
      ]
     },
     "metadata": {},
     "output_type": "display_data"
    }
   ],
   "source": [
    "fig, axs = mpl.subplots(1,3,sharey=True,figsize=(9,3))\n",
    "features = relevant(headers, result, 2)[:3]\n",
    "for i in range(3):\n",
    "    sns.scatterplot(x=crime[features[i]],y=crime.crimerat,ax=axs[i])"
   ]
  },
  {
   "cell_type": "code",
   "execution_count": null,
   "id": "cdd81757-35dc-4a02-83eb-c02661a19a1f",
   "metadata": {},
   "outputs": [],
   "source": []
  }
 ],
 "metadata": {
  "kernelspec": {
   "display_name": "Python 3 (ipykernel)",
   "language": "python",
   "name": "python3"
  },
  "language_info": {
   "codemirror_mode": {
    "name": "ipython",
    "version": 3
   },
   "file_extension": ".py",
   "mimetype": "text/x-python",
   "name": "python",
   "nbconvert_exporter": "python",
   "pygments_lexer": "ipython3",
   "version": "3.12.7"
  }
 },
 "nbformat": 4,
 "nbformat_minor": 5
}
