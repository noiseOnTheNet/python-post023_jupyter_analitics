{
 "cells": [
  {
   "cell_type": "markdown",
   "id": "95761686-2e93-445b-b1ec-4ef918d92cf3",
   "metadata": {},
   "source": [
    "# Using Pandas\n",
    "Pandas is a library to work with data using relational tables\n",
    "\n",
    "To prepare for this lesson execute the following cell"
   ]
  },
  {
   "cell_type": "code",
   "execution_count": null,
   "id": "72eeedee-2247-4571-a65e-c47a3e9c9182",
   "metadata": {},
   "outputs": [],
   "source": [
    "!git clone https://github.com/datasciencedojo/datasets.git"
   ]
  },
  {
   "cell_type": "markdown",
   "id": "85261107-0646-44ab-b92b-6990e629b772",
   "metadata": {},
   "source": [
    "import the pandas library and assign it a shorter alias"
   ]
  },
  {
   "cell_type": "code",
   "execution_count": null,
   "id": "56ed1d2a-bd74-4ee1-affd-ca3f79f653ca",
   "metadata": {},
   "outputs": [],
   "source": [
    "import pandas as pd"
   ]
  },
  {
   "cell_type": "markdown",
   "id": "47fb6f03-0fc7-4bd0-9a8c-b8f780996441",
   "metadata": {},
   "source": [
    "## Loading data\n",
    "Pandas includes a rich set of input functions that allow you to get data from various file types\n",
    "\n",
    "| function | format | notes |\n",
    "|----------|--------|-------|\n",
    "| `pd.read_csv` | textual csv | |\n",
    "| `pd.read_excel` | binary excel format | requires external library |\n",
    "| `pd.read_parquet` | fast binary columnar format| requires pyarrow |\n",
    "\n",
    "A data frame contains many functions to explore it e.g. the `.head()` method shows the first lines of a data frame"
   ]
  },
  {
   "cell_type": "code",
   "execution_count": null,
   "id": "2e6a3a88-e16d-4335-b6f2-ba193775997e",
   "metadata": {},
   "outputs": [],
   "source": [
    "df = pd.read_csv(\"datasets/titanic.csv\")\n",
    "df.head()"
   ]
  },
  {
   "cell_type": "markdown",
   "id": "388e3281-c015-41fd-9176-023594730238",
   "metadata": {},
   "source": [
    "## Selection, filter and extension"
   ]
  },
  {
   "cell_type": "code",
   "execution_count": null,
   "id": "3926a887-792c-417d-a898-3d50dca3f991",
   "metadata": {},
   "outputs": [],
   "source": [
    "df.columns"
   ]
  },
  {
   "cell_type": "code",
   "execution_count": null,
   "id": "811fa793-bdde-41e7-aca6-ffd5feeea5ca",
   "metadata": {},
   "outputs": [],
   "source": [
    "df[[\"Survived\",\"Pclass\",\"Sex\",\"Age\"]]"
   ]
  },
  {
   "cell_type": "code",
   "execution_count": null,
   "id": "cdff0358-5bd4-41cd-bea4-145e81bf4a73",
   "metadata": {},
   "outputs": [],
   "source": [
    "df[df.Pclass == 1]"
   ]
  },
  {
   "cell_type": "code",
   "execution_count": null,
   "id": "b7670c7e-7d82-4d18-b98b-4b4e88c289c0",
   "metadata": {},
   "outputs": [],
   "source": [
    "df.loc[df.Pclass==1,[\"Survived\",\"Sex\",\"Age\"]]"
   ]
  },
  {
   "cell_type": "code",
   "execution_count": null,
   "id": "45c047f8-36e2-45bd-9a4c-97b56dc5c3fb",
   "metadata": {},
   "outputs": [],
   "source": [
    "countries = pd.read_csv(\"datasets/WorldDBTables/CountryTable.csv\")\n",
    "countries.columns"
   ]
  },
  {
   "cell_type": "code",
   "execution_count": null,
   "id": "96728a59-e5b5-4663-b27a-252bd624739d",
   "metadata": {},
   "outputs": [],
   "source": [
    "countries[\"population_density\"] = countries.population /  countries.surface_area\n",
    "countries.loc[:,[\"name\",\"population_density\"]]"
   ]
  },
  {
   "cell_type": "code",
   "execution_count": null,
   "id": "8b9091af-f96e-4619-92a9-269824621d8c",
   "metadata": {},
   "outputs": [],
   "source": [
    "countries.sort_values(\"population_density\",ascending=False).loc[:,[\"name\",\"population_density\"]].head()"
   ]
  },
  {
   "cell_type": "markdown",
   "id": "0f33427e-25be-4a1a-add9-531d0d4777e5",
   "metadata": {},
   "source": [
    "## Join and concatenation"
   ]
  },
  {
   "cell_type": "code",
   "execution_count": null,
   "id": "324d0c7a-28cd-4d39-939c-7e7e31fc88b7",
   "metadata": {},
   "outputs": [],
   "source": [
    "languages = pd.read_csv(\"datasets/WorldDBTables/LanguageTable.csv\")"
   ]
  },
  {
   "cell_type": "code",
   "execution_count": null,
   "id": "eafab382-bd7d-4d52-b5bc-a8431b61d28b",
   "metadata": {},
   "outputs": [],
   "source": [
    "languages_by_country = pd.merge(countries, languages, how=\"inner\", left_on=[\"code\"], right_on=[\"country_code\"])\n",
    "languages_by_country[\"people_speaking\"] = languages_by_country.population * languages_by_country.percentage / 100\n",
    "languages_by_country[[\"name\",\"language\",\"people_speaking\",\"official\"]]"
   ]
  },
  {
   "cell_type": "markdown",
   "id": "8d05ecf4-f6f4-4fe6-b07d-1530c025222b",
   "metadata": {},
   "source": [
    "## Pivoting and melting"
   ]
  },
  {
   "cell_type": "markdown",
   "id": "976214ae-7a2f-4b65-a6d0-32e285eabea2",
   "metadata": {},
   "source": [
    "## Aggregation"
   ]
  },
  {
   "cell_type": "code",
   "execution_count": null,
   "id": "9c64bcb4-1f36-48ae-acfb-9e670a8748e3",
   "metadata": {},
   "outputs": [],
   "source": [
    "languages_by_country.groupby([\"language\"]) \\\n",
    ".agg({\"people_speaking\":\"sum\"}) \\\n",
    ".sort_values(\"people_speaking\",ascending=False) \\\n",
    ".head()"
   ]
  },
  {
   "cell_type": "markdown",
   "id": "d31d5f34-6d42-4825-aa58-406904cad215",
   "metadata": {},
   "source": [
    "## Exercise"
   ]
  },
  {
   "cell_type": "code",
   "execution_count": null,
   "id": "3a50e0e3-64d7-47b4-b693-eebacd331d04",
   "metadata": {},
   "outputs": [],
   "source": []
  }
 ],
 "metadata": {
  "kernelspec": {
   "display_name": "Python 3 (ipykernel)",
   "language": "python",
   "name": "python3"
  },
  "language_info": {
   "codemirror_mode": {
    "name": "ipython",
    "version": 3
   },
   "file_extension": ".py",
   "mimetype": "text/x-python",
   "name": "python",
   "nbconvert_exporter": "python",
   "pygments_lexer": "ipython3",
   "version": "3.12.7"
  }
 },
 "nbformat": 4,
 "nbformat_minor": 5
}
