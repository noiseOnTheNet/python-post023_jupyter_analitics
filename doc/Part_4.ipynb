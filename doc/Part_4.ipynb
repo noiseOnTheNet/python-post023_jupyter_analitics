{
 "cells": [
  {
   "cell_type": "markdown",
   "id": "f07e3fcf-15bf-45c9-9e28-b09164509bf2",
   "metadata": {},
   "source": [
    "# Create a Script from a Jupyter Notebook\n",
    "Sometime it is useful to transform your notebook in an actual script e.g.:\n",
    "\n",
    "- if you want it to be executed automatically (unattended)\n",
    "- if you want to create a module out of it in order to use it in a bigger application "
   ]
  },
  {
   "cell_type": "markdown",
   "id": "746e7490-824f-446b-a24d-db6367fdc4fc",
   "metadata": {
    "jp-MarkdownHeadingCollapsed": true
   },
   "source": [
    "## extract code from Jupyter\n",
    "Jupyter has a very wide range of formats to export the content of a notebook; some of them are a graphical export (e.g. html or pdf -- this requires a latex installation) or textual export (ascii, rtf), etc. \n",
    "\n",
    "To start creating a python script from your notebook, open it into Jupyter, then\n",
    "1. from the File menu select `save and export notebook as`\n",
    "2. from the submenu select `Executable script`\n",
    "this will save a file in your Download directory named with the title of your notebook, but with .py extension\n",
    "\n",
    "You can now open this file with your favorite code editor; here is what you will see:\n",
    "\n",
    "- before every cell there will be a comment with the cell execution number\n",
    "- every code cell will be copied in an individual block of commands\n",
    "- markdown cells and raw cells will be presented as comments\n",
    "- output will be removed\n",
    "\n",
    "In the following sections I will list some cleanup actions which will help you transform this script into a more manageable piece of code"
   ]
  },
  {
   "cell_type": "markdown",
   "id": "a1cc4dee-702e-4538-ac7b-7a03d2f121f1",
   "metadata": {},
   "source": [
    "## manage magic code\n",
    "magic code is translated into the equivalent python call e.g.\n",
    "\n",
    "```\n",
    "?sum\n",
    "```\n",
    "\n",
    "becomes\n",
    "\n",
    "```python\n",
    "get_ipython().run_line_magic('pinfo', 'sum')\n",
    "```\n",
    "\n",
    "most of the time you may want to get rid of all of this kind of code as some functionalities (e.g. accessing documentation) are intended only for interactive usage within a jupyter notebook.\n",
    "\n",
    "Other functionalities (e.g. timing your cell execution) may be better managed with other libraries."
   ]
  },
  {
   "cell_type": "markdown",
   "id": "268d2832-7730-4cbb-a557-b05ad9ba7ef3",
   "metadata": {},
   "source": [
    "## add code to save tables\n",
    "Jupyter conveniently shows pandas `DataFrame`s as tables; you may want to extract these results into files.\n",
    "\n",
    "To access these tables from a script you can save them into files\n",
    "\n",
    "If your table are small you may be willing to save them in some simple format:\n",
    "- csv using\n",
    "  ```python\n",
    "  df.to_csv(\"my_file.csv\")\n",
    "  ```\n",
    "- [Microsoft Excel](https://pandas.pydata.org/pandas-docs/stable/reference/api/pandas.DataFrame.to_excel.html) using `openpyxl` [optional library](https://openpyxl.readthedocs.io/en/stable/tutorial.html) \n",
    "  ```python\n",
    "  df.to_excel(\"my_file.xlsx\")\n",
    "  ```\n",
    "\n",
    "For larger tables or more complex tasks binary formats may help.\n",
    "- [Apache Parquet](https://parquet.apache.org/) is a columnar binary format ideal for large data collections and high performance computation; it requires some optional library e.g. [pyarrow](https://arrow.apache.org/docs/python/index.html) see [documentation](https://pandas.pydata.org/pandas-docs/stable/reference/api/pandas.DataFrame.to_parquet.html)\n",
    "  ```python\n",
    "  df.to_parquet(\"my_file.pqt\")\n",
    "  ```\n",
    "- [hdf5](https://www.hdfgroup.org/solutions/hdf5/) is a binary format which can contain multiple tables in a single file (see [documentation](https://pandas.pydata.org/pandas-docs/stable/reference/api/pandas.DataFrame.to_hdf.html) )\n",
    "    ```python\n",
    "  df.to_hdf(\"my_file.pqt\")\n",
    "  ```"
   ]
  },
  {
   "cell_type": "markdown",
   "id": "db6ec21b-100b-4ae3-b4d1-250eb58fbd46",
   "metadata": {},
   "source": [
    "## add code to save figures"
   ]
  },
  {
   "cell_type": "markdown",
   "id": "f366c8af-a528-41d2-ba15-69e1a2d9f0a3",
   "metadata": {},
   "source": [
    "## clean up the code\n",
    "The following suggestions holds for any python script and are not strictly required for the execution.\n",
    "\n",
    "- move all `import` statements at the beginning of the file\n",
    "- organize the code in functions and classes; possibly add type annotations\n",
    "- create a single entry point at the bottom of the code with the usual\n",
    "  ```python\n",
    "  if __name__ == \"__main__\":\n",
    "      main()\n",
    "    ```\n",
    "- add command line options management using libraries like `optparse` [(see here)](https://docs.python.org/3/library/optparse.html)\n",
    "- separate data and configuration from code: libraries like `toml` [(see here)](https://github.com/uiri/toml) can help reading configuration files \n",
    "- transform absolute paths into relative paths\n",
    "- consider using pyproject.html to [collect dependencies and constraints](https://packaging.python.org/en/latest/guides/writing-pyproject-toml/)\n",
    "- consider using a linter to evaluate code inconsistencies\n",
    "- create unit tests to verify your functions individually; `pytest` helps in this [task](https://docs.pytest.org/en/stable/)\n",
    "- add documentation per each function or class as well as a module doc string"
   ]
  },
  {
   "cell_type": "markdown",
   "id": "6c95a4da-6462-4385-8181-2f92c39658da",
   "metadata": {},
   "source": [
    "## add shell script to launch the code"
   ]
  }
 ],
 "metadata": {
  "kernelspec": {
   "display_name": "Python 3 (ipykernel)",
   "language": "python",
   "name": "python3"
  },
  "language_info": {
   "codemirror_mode": {
    "name": "ipython",
    "version": 3
   },
   "file_extension": ".py",
   "mimetype": "text/x-python",
   "name": "python",
   "nbconvert_exporter": "python",
   "pygments_lexer": "ipython3",
   "version": "3.12.7"
  }
 },
 "nbformat": 4,
 "nbformat_minor": 5
}
