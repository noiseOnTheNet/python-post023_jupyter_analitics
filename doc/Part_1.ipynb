{
 "cells": [
  {
   "cell_type": "markdown",
   "id": "c1d2d735-3392-4810-bf2c-203c24eb9856",
   "metadata": {},
   "source": [
    "# Using Jupyter Lab"
   ]
  },
  {
   "cell_type": "markdown",
   "id": "effc2c4b-4920-408b-8d8c-f237edb8e53d",
   "metadata": {},
   "source": [
    "## Install and launch jupyter lab\n",
    "### create and activate your environment \n",
    "if you have a conda installation\n",
    "``` bash\n",
    "conda create -n myenv python=3.12\n",
    "conda activate myenv\n",
    "```\n",
    "on windows using the py launcher\n",
    "```cmd\n",
    "py -3.12 -m venv myenv\n",
    "myenv\\Scripts\\activate\n",
    "```\n",
    "### launch installation\n",
    "with conda\n",
    "```bash\n",
    "conda install jupyterlab\n",
    "```\n",
    "with pip\n",
    "```bash\n",
    "pip install jupyterlab\n",
    "```\n",
    "### launch application\n",
    "```bash\n",
    "jupyter lab\n",
    "```\n",
    "### create a notebook\n",
    "when starting application your browser will show the launcher page which includes some icons; clicking the python icon on the top left corner will open a new notebook"
   ]
  },
  {
   "cell_type": "markdown",
   "id": "e001f631-0622-48b2-85fc-6cef23eb3e27",
   "metadata": {},
   "source": [
    "## Writing and executing code\n",
    "Each Jupyter notebook is composed of cells; in each cell you can type some python code e.g."
   ]
  },
  {
   "cell_type": "code",
   "execution_count": 2,
   "id": "4db8f5f2-affb-4ebf-b0fb-48e4eb1712a3",
   "metadata": {},
   "outputs": [
    {
     "data": {
      "text/plain": [
       "'my name is Marco'"
      ]
     },
     "execution_count": 2,
     "metadata": {},
     "output_type": "execute_result"
    }
   ],
   "source": [
    "name = \"Marco\"\n",
    "f\"my name is {name}\""
   ]
  },
  {
   "cell_type": "markdown",
   "id": "48302117-7909-451d-9aaf-0d34549a1105",
   "metadata": {},
   "source": [
    "### executing a cell\n",
    "you can either click on the right arrow icon in the top of the notebook or press shift-enter in a cell you are writing into\n",
    "\n",
    "the last expression in a cell is returned as a result; if any function prints some text this appears as well"
   ]
  },
  {
   "cell_type": "code",
   "execution_count": 4,
   "id": "b95920be-89f5-4897-9326-991e0cb1eb37",
   "metadata": {},
   "outputs": [
    {
     "name": "stdout",
     "output_type": "stream",
     "text": [
      "this is a text before the result of an expression\n"
     ]
    },
    {
     "data": {
      "text/plain": [
       "10"
      ]
     },
     "execution_count": 4,
     "metadata": {},
     "output_type": "execute_result"
    }
   ],
   "source": [
    "print(\"this is a text before the result of an expression\")\n",
    "# this is the last expression in the cell\n",
    "2 ** 3 + 2"
   ]
  },
  {
   "cell_type": "markdown",
   "id": "c99ee038-c3c7-4216-8993-9694095da462",
   "metadata": {},
   "source": [
    "### what does it happen behind the scenes?\n",
    "a python interpreter is activated per each individual open notebook; each time a cell is executed the text inside the cell is evaluated and the result is returned as well as any output on the **stdout** or **stderr** streams"
   ]
  },
  {
   "cell_type": "markdown",
   "id": "421ae2ce-1083-490e-b45a-c23cf69f81dd",
   "metadata": {},
   "source": [
    "## Magic commands\n",
    "\n",
    "Jupyter extends python with some commands aimed to simplify common tasks; these commands starts with one or two percent symbols; execute the following cell to read an introduction to magic commands and their functionality.\n",
    "Let's just list a few action you can do\n",
    "* change the current process directory\n",
    "* time the execution of a command\n",
    "* save the content of a cell in a file\n",
    "* execute a command in your operating system (an external command)"
   ]
  },
  {
   "cell_type": "code",
   "execution_count": null,
   "id": "96afffb3-6b4d-4e74-adfe-2c3962d0dde2",
   "metadata": {},
   "outputs": [],
   "source": [
    "%magic"
   ]
  },
  {
   "cell_type": "markdown",
   "id": "3be0c45c-1040-4329-944b-fd094777a36a",
   "metadata": {},
   "source": [
    "## Load and save files and notebook\n",
    "A jupyter app is a web application and can run on a remote server; you can download your notebooks as well as other data files available and load other notebooks or files\n",
    "\n",
    "### saving your current notebook\n",
    "Every now and then the notebook saves itself; you can make sure it is saved by clicking the floppy disk icon in the top bar\n",
    "\n",
    "Each notebook can be renamed either\n",
    "1. from the left pane\n",
    "    1. selecting the folder tab\n",
    "    2. and right clicking on the name in the file list on the left\n",
    "    3. and selecting rename; or\n",
    "2. from an open notebook\n",
    "    1. right clicking on the name in the tab\n",
    "    2. and selecting rename\n",
    "\n",
    "### upload files and notebook\n",
    "to load notebooks or any file:\n",
    "1. choose the folder tab\n",
    "2. click on the up arrow on the left\n",
    "3. select your file from your local disk\n",
    "\n",
    "### download a file or a notebook\n",
    "1. choose the folder tab\n",
    "2. navigate to the directory containing the file(s)\n",
    "3. right click on the file name\n",
    "4. select download"
   ]
  },
  {
   "cell_type": "markdown",
   "id": "7ccf2da9-a5e9-4a67-8c38-87231bdda226",
   "metadata": {},
   "source": [
    "## Adding formatted text\n",
    "Jupyter allows you to write formatted text using MarkDown.\n",
    "\n",
    "This allows you to create titles *italic text* **bold text** links e.g. [cheat sheet](https://www.markdownguide.org/cheat-sheet/)"
   ]
  },
  {
   "cell_type": "markdown",
   "id": "62f51cef-8c9f-4e38-b15d-12709c4ec1a8",
   "metadata": {},
   "source": [
    "## Exercise\n",
    "1. save and rename this notebook\n",
    "2. complete the following function with an iteration which prints all fibonacci numbers up to the n-th (remember that F(n) = F(n-1) + F(n-2) and F(0) == F(1) == 1 )"
   ]
  },
  {
   "cell_type": "code",
   "execution_count": 5,
   "id": "515dd8a9-6326-4c68-9545-58bf59b475ce",
   "metadata": {},
   "outputs": [],
   "source": [
    "def fibonacci(n):\n",
    "    pass"
   ]
  },
  {
   "cell_type": "markdown",
   "id": "bfa03d94-f9c7-4133-bd0f-a5c3f8174a34",
   "metadata": {},
   "source": [
    "3. execute the function and compare your results with your friends"
   ]
  },
  {
   "cell_type": "code",
   "execution_count": null,
   "id": "a0b39068-129a-48d9-8a46-00c23e5c372d",
   "metadata": {},
   "outputs": [],
   "source": [
    "fibonacci(5)"
   ]
  },
  {
   "cell_type": "markdown",
   "id": "8b1ec212-b50b-450a-8150-3301e7b1f41a",
   "metadata": {},
   "source": [
    "4. download this notebook and exchange with a friend\n",
    "5. load your friend's notebook and upload it here"
   ]
  }
 ],
 "metadata": {
  "kernelspec": {
   "display_name": "Python 3 (ipykernel)",
   "language": "python",
   "name": "python3"
  },
  "language_info": {
   "codemirror_mode": {
    "name": "ipython",
    "version": 3
   },
   "file_extension": ".py",
   "mimetype": "text/x-python",
   "name": "python",
   "nbconvert_exporter": "python",
   "pygments_lexer": "ipython3",
   "version": "3.12.7"
  }
 },
 "nbformat": 4,
 "nbformat_minor": 5
}
